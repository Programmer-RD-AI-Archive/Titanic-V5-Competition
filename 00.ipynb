{
 "cells": [
  {
   "cell_type": "code",
   "execution_count": 1,
   "id": "71a0d962-db20-4fd2-a7b7-6f8c8dbc290b",
   "metadata": {},
   "outputs": [
    {
     "data": {
      "text/plain": [
       "<torch._C.Generator at 0x7fedab818890>"
      ]
     },
     "execution_count": 1,
     "metadata": {},
     "output_type": "execute_result"
    }
   ],
   "source": [
    "import random\n",
    "import seaborn as sns\n",
    "import pandas as pd\n",
    "import numpy as np\n",
    "import matplotlib.pyplot as plt\n",
    "import sklearn\n",
    "import torch,torchvision\n",
    "from torch.nn import *\n",
    "from torch.optim import *\n",
    "from sklearn.preprocessing import (\n",
    "    StandardScaler,\n",
    "    RobustScaler,\n",
    "    MinMaxScaler,\n",
    "    MaxAbsScaler,\n",
    "    OneHotEncoder,\n",
    "    LabelEncoder,\n",
    "    Normalizer,\n",
    ")\n",
    "from sklearn.model_selection import cross_val_score,train_test_split\n",
    "from sklearn.neighbors import KNeighborsClassifier\n",
    "from sklearn.tree import DecisionTreeClassifier\n",
    "from sklearn.ensemble import GradientBoostingClassifier,AdaBoostClassifier,VotingClassifier,BaggingClassifier,RandomForestRegressor\n",
    "from sklearn.svm import SVC\n",
    "from sklearn.ensemble import BaggingClassifier\n",
    "from sklearn.ensemble import ExtraTreesClassifier\n",
    "from catboost import CatBoost,CatBoostClassifier\n",
    "from xgboost import XGBClassifier,XGBRFClassifier\n",
    "from flaml import AutoML\n",
    "from sklearn.metrics import mean_absolute_error,mean_squared_error,accuracy_score,precision_score,f1_score,recall_score\n",
    "import pickle\n",
    "import wandb\n",
    "from sklearn.compose import make_column_transformer\n",
    "from sklearn.model_selection import GridSearchCV\n",
    "PROJECT_NAME = 'Titanic-V5-Competition'\n",
    "device = 'cuda'\n",
    "np.random.seed(21)\n",
    "random.seed(21)\n",
    "torch.manual_seed(21)"
   ]
  },
  {
   "cell_type": "code",
   "execution_count": 2,
   "id": "1ef688c6-25e9-4779-b84b-eddf266b32b5",
   "metadata": {},
   "outputs": [],
   "source": [
    "def make_submission(model,name):\n",
    "    data = pd.read_csv('./data/test.csv')\n",
    "    names = data['Name']\n",
    "    new_names = []\n",
    "    for name in names:\n",
    "        name = name.split(',')[1].split('.')[0].split(' ')[1]\n",
    "        new_names.append(name)\n",
    "    data['Name'] = names\n",
    "    tickets = data['Ticket']\n",
    "    new_tickets_id = []\n",
    "    new_tickets_rank = []\n",
    "    for ticket in tickets:\n",
    "        ticket = ticket.split(' ')\n",
    "        try:\n",
    "            new_tickets_id.append(int(ticket[1]))\n",
    "        except:\n",
    "            try:\n",
    "                new_tickets_id.append(int(ticket[0]))\n",
    "            except:\n",
    "                try:\n",
    "                    new_tickets_id.append(int(ticket[2]))\n",
    "                except:\n",
    "                    new_tickets_id.append(0)\n",
    "        try:\n",
    "            int(ticket[0])\n",
    "            new_tickets_rank.append(str(0))\n",
    "        except Exception as e:\n",
    "            new_tickets_rank.append(str(ticket[0]))\n",
    "    del data['Ticket']\n",
    "    data['Ticket Rank'] = new_tickets_rank\n",
    "    data['Ticket Id'] = new_tickets_id\n",
    "    cabins = data['Cabin']\n",
    "    new_cabins = []\n",
    "    for cabin in cabins:\n",
    "        if type(cabin) == str:\n",
    "            new_cabins.append(1)\n",
    "        else:\n",
    "            new_cabins.append(0)\n",
    "    ids = data['PassengerId']\n",
    "    del data['PassengerId']\n",
    "    data['Cabin'] = new_cabins\n",
    "    data,idx,labels_and_int_index,new_data = object_to_int(data,'Name')\n",
    "    data,idx,labels_and_int_index,new_data = object_to_int(data,'Sex')\n",
    "    data,idx,labels_and_int_index,new_data = object_to_int(data,'Name')\n",
    "    data,idx,labels_and_int_index,new_data = object_to_int(data,'Ticket Rank')\n",
    "    data,idx,labels_and_int_index,new_data = object_to_int(data,'Embarked')\n",
    "    data['Age'] = data['Age'].fillna(data['Age'].median())\n",
    "    data['Fare'] = data['Fare'].fillna(data['Fare'].median())\n",
    "    print(len(data.columns))\n",
    "    preds = model.predict(data)\n",
    "    df = pd.DataFrame({'PassengerId':ids,'Survived':preds})\n",
    "    df.to_csv(f'/home/indika/Programming/Projects/Python/Artifical-Intelligence/Sklearn-PyTorch/Titanic-V5-Competition/submisssions/{name}.csv',index=False)\n",
    "    return df\n",
    "def validate(model,X,y,val=False):\n",
    "    preds = model.predict(X)\n",
    "    if val:\n",
    "        result = {\n",
    "            'accuracy_score':accuracy_score(y_pred=preds,y_true=y),\n",
    "            'precision_score':precision_score(y_pred=preds,y_true=y),\n",
    "            'f1_score':f1_score(y_pred=preds,y_true=y),\n",
    "            'recall_score':recall_score(y_pred=preds,y_true=y),\n",
    "        }\n",
    "    else:\n",
    "        result = {\n",
    "            'val accuracy_score':accuracy_score(y_pred=preds,y_true=y),\n",
    "            'val precision_score':precision_score(y_pred=preds,y_true=y),\n",
    "            'val f1_score':f1_score(y_pred=preds,y_true=y),\n",
    "            'val recall_score':recall_score(y_pred=preds,y_true=y),\n",
    "        }\n",
    "    return result\n",
    "def train(model,X_train,X_test,y_train,y_test,name):\n",
    "    wandb.init(project=PROJECT_NAME,name=name)\n",
    "    model.fit(X_train,y_train)\n",
    "    wandb.log(validate(model,X_train,y_train))\n",
    "    wandb.log(validate(model,X_test,y_test,True))\n",
    "    wandb.sklearn.plot_learning_curve(model, X_train, y_train)\n",
    "    pickle.dump(model,open(f'/home/indika/Programming/Projects/Python/Artifical-Intelligence/Sklearn-PyTorch/Titanic-V5-Competition/models/model-{name}.pkl','wb'))\n",
    "    make_submission(model,name)\n",
    "    return model"
   ]
  },
  {
   "cell_type": "code",
   "execution_count": 3,
   "id": "33c7fa54-50bf-4994-8bff-63cc07903e50",
   "metadata": {},
   "outputs": [],
   "source": [
    "data = pd.read_csv('./data/train.csv')"
   ]
  },
  {
   "cell_type": "code",
   "execution_count": 4,
   "id": "757b6c76-733e-4c67-bdc3-064cb97d6214",
   "metadata": {},
   "outputs": [],
   "source": [
    "data = data.sample(frac=1)"
   ]
  },
  {
   "cell_type": "code",
   "execution_count": 5,
   "id": "7f0c94b3-ce22-43ff-9311-b848f0369678",
   "metadata": {},
   "outputs": [],
   "source": [
    "data['Age'] = data['Age'].fillna(data['Age'].median())"
   ]
  },
  {
   "cell_type": "code",
   "execution_count": 6,
   "id": "82529459-940b-4cfc-9fae-f2e6e8c06874",
   "metadata": {},
   "outputs": [],
   "source": [
    "def object_to_int(data,col):\n",
    "    data_col = data[col].to_dict()\n",
    "    idx = -1\n",
    "    labels_and_int_index = {}\n",
    "    for data_col_vals in data_col.values():\n",
    "        if data_col_vals not in labels_and_int_index.keys():\n",
    "            idx += 1\n",
    "            labels_and_int_index[data_col_vals] = idx\n",
    "    new_data = []\n",
    "    for data_col_vals in data_col.values():\n",
    "        new_data.append(labels_and_int_index[data_col_vals])\n",
    "    data[col] = new_data\n",
    "    return data,idx,labels_and_int_index,new_data"
   ]
  },
  {
   "cell_type": "code",
   "execution_count": 7,
   "id": "46a959cf-8d8c-4dbe-80bd-68f459ae1524",
   "metadata": {},
   "outputs": [
    {
     "data": {
      "text/html": [
       "<div>\n",
       "<style scoped>\n",
       "    .dataframe tbody tr th:only-of-type {\n",
       "        vertical-align: middle;\n",
       "    }\n",
       "\n",
       "    .dataframe tbody tr th {\n",
       "        vertical-align: top;\n",
       "    }\n",
       "\n",
       "    .dataframe thead th {\n",
       "        text-align: right;\n",
       "    }\n",
       "</style>\n",
       "<table border=\"1\" class=\"dataframe\">\n",
       "  <thead>\n",
       "    <tr style=\"text-align: right;\">\n",
       "      <th></th>\n",
       "      <th>PassengerId</th>\n",
       "      <th>Survived</th>\n",
       "      <th>Pclass</th>\n",
       "      <th>Name</th>\n",
       "      <th>Sex</th>\n",
       "      <th>Age</th>\n",
       "      <th>SibSp</th>\n",
       "      <th>Parch</th>\n",
       "      <th>Ticket</th>\n",
       "      <th>Fare</th>\n",
       "      <th>Cabin</th>\n",
       "      <th>Embarked</th>\n",
       "    </tr>\n",
       "  </thead>\n",
       "  <tbody>\n",
       "    <tr>\n",
       "      <th>617</th>\n",
       "      <td>618</td>\n",
       "      <td>0</td>\n",
       "      <td>3</td>\n",
       "      <td>Lobb, Mrs. William Arthur (Cordelia K Stanlick)</td>\n",
       "      <td>female</td>\n",
       "      <td>26.0</td>\n",
       "      <td>1</td>\n",
       "      <td>0</td>\n",
       "      <td>A/5. 3336</td>\n",
       "      <td>16.1000</td>\n",
       "      <td>NaN</td>\n",
       "      <td>S</td>\n",
       "    </tr>\n",
       "    <tr>\n",
       "      <th>379</th>\n",
       "      <td>380</td>\n",
       "      <td>0</td>\n",
       "      <td>3</td>\n",
       "      <td>Gustafsson, Mr. Karl Gideon</td>\n",
       "      <td>male</td>\n",
       "      <td>19.0</td>\n",
       "      <td>0</td>\n",
       "      <td>0</td>\n",
       "      <td>347069</td>\n",
       "      <td>7.7750</td>\n",
       "      <td>NaN</td>\n",
       "      <td>S</td>\n",
       "    </tr>\n",
       "    <tr>\n",
       "      <th>725</th>\n",
       "      <td>726</td>\n",
       "      <td>0</td>\n",
       "      <td>3</td>\n",
       "      <td>Oreskovic, Mr. Luka</td>\n",
       "      <td>male</td>\n",
       "      <td>20.0</td>\n",
       "      <td>0</td>\n",
       "      <td>0</td>\n",
       "      <td>315094</td>\n",
       "      <td>8.6625</td>\n",
       "      <td>NaN</td>\n",
       "      <td>S</td>\n",
       "    </tr>\n",
       "    <tr>\n",
       "      <th>826</th>\n",
       "      <td>827</td>\n",
       "      <td>0</td>\n",
       "      <td>3</td>\n",
       "      <td>Lam, Mr. Len</td>\n",
       "      <td>male</td>\n",
       "      <td>28.0</td>\n",
       "      <td>0</td>\n",
       "      <td>0</td>\n",
       "      <td>1601</td>\n",
       "      <td>56.4958</td>\n",
       "      <td>NaN</td>\n",
       "      <td>S</td>\n",
       "    </tr>\n",
       "    <tr>\n",
       "      <th>450</th>\n",
       "      <td>451</td>\n",
       "      <td>0</td>\n",
       "      <td>2</td>\n",
       "      <td>West, Mr. Edwy Arthur</td>\n",
       "      <td>male</td>\n",
       "      <td>36.0</td>\n",
       "      <td>1</td>\n",
       "      <td>2</td>\n",
       "      <td>C.A. 34651</td>\n",
       "      <td>27.7500</td>\n",
       "      <td>NaN</td>\n",
       "      <td>S</td>\n",
       "    </tr>\n",
       "  </tbody>\n",
       "</table>\n",
       "</div>"
      ],
      "text/plain": [
       "     PassengerId  Survived  Pclass  \\\n",
       "617          618         0       3   \n",
       "379          380         0       3   \n",
       "725          726         0       3   \n",
       "826          827         0       3   \n",
       "450          451         0       2   \n",
       "\n",
       "                                                Name     Sex   Age  SibSp  \\\n",
       "617  Lobb, Mrs. William Arthur (Cordelia K Stanlick)  female  26.0      1   \n",
       "379                      Gustafsson, Mr. Karl Gideon    male  19.0      0   \n",
       "725                              Oreskovic, Mr. Luka    male  20.0      0   \n",
       "826                                     Lam, Mr. Len    male  28.0      0   \n",
       "450                            West, Mr. Edwy Arthur    male  36.0      1   \n",
       "\n",
       "     Parch      Ticket     Fare Cabin Embarked  \n",
       "617      0   A/5. 3336  16.1000   NaN        S  \n",
       "379      0      347069   7.7750   NaN        S  \n",
       "725      0      315094   8.6625   NaN        S  \n",
       "826      0        1601  56.4958   NaN        S  \n",
       "450      2  C.A. 34651  27.7500   NaN        S  "
      ]
     },
     "execution_count": 7,
     "metadata": {},
     "output_type": "execute_result"
    }
   ],
   "source": [
    "data.head()"
   ]
  },
  {
   "cell_type": "code",
   "execution_count": 8,
   "id": "9372fe27-e1ac-49c2-a131-39430cb01deb",
   "metadata": {},
   "outputs": [],
   "source": [
    "names = data['Name']"
   ]
  },
  {
   "cell_type": "code",
   "execution_count": 9,
   "id": "9ecc2b5b-f237-4cf2-ace0-7e3b78e66243",
   "metadata": {},
   "outputs": [],
   "source": [
    "new_names = []"
   ]
  },
  {
   "cell_type": "code",
   "execution_count": 10,
   "id": "cdfe4102-8520-4f12-b345-372f8fefa3c8",
   "metadata": {},
   "outputs": [],
   "source": [
    "for name in names:\n",
    "    name = name.split(',')[1].split('.')[0].split(' ')[1]\n",
    "    new_names.append(name)"
   ]
  },
  {
   "cell_type": "code",
   "execution_count": 11,
   "id": "21d4151e-9910-476a-8d97-304c337a85ed",
   "metadata": {},
   "outputs": [],
   "source": [
    "names = new_names"
   ]
  },
  {
   "cell_type": "code",
   "execution_count": 12,
   "id": "6b2c0bb3-b671-452a-96fe-ebedde6d5949",
   "metadata": {},
   "outputs": [],
   "source": [
    "data['Name'] = names"
   ]
  },
  {
   "cell_type": "code",
   "execution_count": 13,
   "id": "f5ac656e-ab3d-4c32-b6c8-55d88b8fd38a",
   "metadata": {},
   "outputs": [
    {
     "data": {
      "text/html": [
       "<div>\n",
       "<style scoped>\n",
       "    .dataframe tbody tr th:only-of-type {\n",
       "        vertical-align: middle;\n",
       "    }\n",
       "\n",
       "    .dataframe tbody tr th {\n",
       "        vertical-align: top;\n",
       "    }\n",
       "\n",
       "    .dataframe thead th {\n",
       "        text-align: right;\n",
       "    }\n",
       "</style>\n",
       "<table border=\"1\" class=\"dataframe\">\n",
       "  <thead>\n",
       "    <tr style=\"text-align: right;\">\n",
       "      <th></th>\n",
       "      <th>PassengerId</th>\n",
       "      <th>Survived</th>\n",
       "      <th>Pclass</th>\n",
       "      <th>Name</th>\n",
       "      <th>Sex</th>\n",
       "      <th>Age</th>\n",
       "      <th>SibSp</th>\n",
       "      <th>Parch</th>\n",
       "      <th>Ticket</th>\n",
       "      <th>Fare</th>\n",
       "      <th>Cabin</th>\n",
       "      <th>Embarked</th>\n",
       "    </tr>\n",
       "  </thead>\n",
       "  <tbody>\n",
       "    <tr>\n",
       "      <th>617</th>\n",
       "      <td>618</td>\n",
       "      <td>0</td>\n",
       "      <td>3</td>\n",
       "      <td>Mrs</td>\n",
       "      <td>female</td>\n",
       "      <td>26.0</td>\n",
       "      <td>1</td>\n",
       "      <td>0</td>\n",
       "      <td>A/5. 3336</td>\n",
       "      <td>16.1000</td>\n",
       "      <td>NaN</td>\n",
       "      <td>S</td>\n",
       "    </tr>\n",
       "    <tr>\n",
       "      <th>379</th>\n",
       "      <td>380</td>\n",
       "      <td>0</td>\n",
       "      <td>3</td>\n",
       "      <td>Mr</td>\n",
       "      <td>male</td>\n",
       "      <td>19.0</td>\n",
       "      <td>0</td>\n",
       "      <td>0</td>\n",
       "      <td>347069</td>\n",
       "      <td>7.7750</td>\n",
       "      <td>NaN</td>\n",
       "      <td>S</td>\n",
       "    </tr>\n",
       "    <tr>\n",
       "      <th>725</th>\n",
       "      <td>726</td>\n",
       "      <td>0</td>\n",
       "      <td>3</td>\n",
       "      <td>Mr</td>\n",
       "      <td>male</td>\n",
       "      <td>20.0</td>\n",
       "      <td>0</td>\n",
       "      <td>0</td>\n",
       "      <td>315094</td>\n",
       "      <td>8.6625</td>\n",
       "      <td>NaN</td>\n",
       "      <td>S</td>\n",
       "    </tr>\n",
       "    <tr>\n",
       "      <th>826</th>\n",
       "      <td>827</td>\n",
       "      <td>0</td>\n",
       "      <td>3</td>\n",
       "      <td>Mr</td>\n",
       "      <td>male</td>\n",
       "      <td>28.0</td>\n",
       "      <td>0</td>\n",
       "      <td>0</td>\n",
       "      <td>1601</td>\n",
       "      <td>56.4958</td>\n",
       "      <td>NaN</td>\n",
       "      <td>S</td>\n",
       "    </tr>\n",
       "    <tr>\n",
       "      <th>450</th>\n",
       "      <td>451</td>\n",
       "      <td>0</td>\n",
       "      <td>2</td>\n",
       "      <td>Mr</td>\n",
       "      <td>male</td>\n",
       "      <td>36.0</td>\n",
       "      <td>1</td>\n",
       "      <td>2</td>\n",
       "      <td>C.A. 34651</td>\n",
       "      <td>27.7500</td>\n",
       "      <td>NaN</td>\n",
       "      <td>S</td>\n",
       "    </tr>\n",
       "  </tbody>\n",
       "</table>\n",
       "</div>"
      ],
      "text/plain": [
       "     PassengerId  Survived  Pclass Name     Sex   Age  SibSp  Parch  \\\n",
       "617          618         0       3  Mrs  female  26.0      1      0   \n",
       "379          380         0       3   Mr    male  19.0      0      0   \n",
       "725          726         0       3   Mr    male  20.0      0      0   \n",
       "826          827         0       3   Mr    male  28.0      0      0   \n",
       "450          451         0       2   Mr    male  36.0      1      2   \n",
       "\n",
       "         Ticket     Fare Cabin Embarked  \n",
       "617   A/5. 3336  16.1000   NaN        S  \n",
       "379      347069   7.7750   NaN        S  \n",
       "725      315094   8.6625   NaN        S  \n",
       "826        1601  56.4958   NaN        S  \n",
       "450  C.A. 34651  27.7500   NaN        S  "
      ]
     },
     "execution_count": 13,
     "metadata": {},
     "output_type": "execute_result"
    }
   ],
   "source": [
    "data.head()"
   ]
  },
  {
   "cell_type": "code",
   "execution_count": 14,
   "id": "9ad9f5c4-0469-43f9-aafd-87d662c7d43e",
   "metadata": {},
   "outputs": [],
   "source": [
    "tickets = data['Ticket']"
   ]
  },
  {
   "cell_type": "code",
   "execution_count": 15,
   "id": "e26bb928-f05d-4863-8387-5fe7404ddf20",
   "metadata": {},
   "outputs": [],
   "source": [
    "new_tickets_id = []\n",
    "new_tickets_rank = []"
   ]
  },
  {
   "cell_type": "code",
   "execution_count": 16,
   "id": "7be50998-048a-4434-885b-49398e1ce027",
   "metadata": {},
   "outputs": [],
   "source": [
    "for ticket in tickets:\n",
    "    ticket = ticket.split(' ')\n",
    "    try:\n",
    "        new_tickets_id.append(int(ticket[1]))\n",
    "    except:\n",
    "        try:\n",
    "            new_tickets_id.append(int(ticket[0]))\n",
    "        except:\n",
    "            try:\n",
    "                new_tickets_id.append(int(ticket[2]))\n",
    "            except:\n",
    "                new_tickets_id.append(0)\n",
    "    try:\n",
    "        int(ticket[0])\n",
    "        new_tickets_rank.append(str(0))\n",
    "    except Exception as e:\n",
    "        new_tickets_rank.append(str(ticket[0]))"
   ]
  },
  {
   "cell_type": "code",
   "execution_count": 17,
   "id": "3ea03f36-86e5-4a50-ac1a-9f0894f059cd",
   "metadata": {},
   "outputs": [],
   "source": [
    "del data['Ticket']"
   ]
  },
  {
   "cell_type": "code",
   "execution_count": 18,
   "id": "c905fdcc-10c5-4617-88ed-71dc26670ef0",
   "metadata": {},
   "outputs": [],
   "source": [
    "data['Ticket Rank'] = new_tickets_rank\n",
    "data['Ticket Id'] = new_tickets_id"
   ]
  },
  {
   "cell_type": "code",
   "execution_count": 19,
   "id": "d53eaea6-6df9-4233-99bb-8706895aacf9",
   "metadata": {},
   "outputs": [],
   "source": [
    "del data['PassengerId']"
   ]
  },
  {
   "cell_type": "code",
   "execution_count": 20,
   "id": "edfda234-586f-4f8a-b955-a286019369c1",
   "metadata": {},
   "outputs": [
    {
     "data": {
      "text/html": [
       "<div>\n",
       "<style scoped>\n",
       "    .dataframe tbody tr th:only-of-type {\n",
       "        vertical-align: middle;\n",
       "    }\n",
       "\n",
       "    .dataframe tbody tr th {\n",
       "        vertical-align: top;\n",
       "    }\n",
       "\n",
       "    .dataframe thead th {\n",
       "        text-align: right;\n",
       "    }\n",
       "</style>\n",
       "<table border=\"1\" class=\"dataframe\">\n",
       "  <thead>\n",
       "    <tr style=\"text-align: right;\">\n",
       "      <th></th>\n",
       "      <th>Survived</th>\n",
       "      <th>Pclass</th>\n",
       "      <th>Name</th>\n",
       "      <th>Sex</th>\n",
       "      <th>Age</th>\n",
       "      <th>SibSp</th>\n",
       "      <th>Parch</th>\n",
       "      <th>Fare</th>\n",
       "      <th>Cabin</th>\n",
       "      <th>Embarked</th>\n",
       "      <th>Ticket Rank</th>\n",
       "      <th>Ticket Id</th>\n",
       "    </tr>\n",
       "  </thead>\n",
       "  <tbody>\n",
       "    <tr>\n",
       "      <th>617</th>\n",
       "      <td>0</td>\n",
       "      <td>3</td>\n",
       "      <td>Mrs</td>\n",
       "      <td>female</td>\n",
       "      <td>26.0</td>\n",
       "      <td>1</td>\n",
       "      <td>0</td>\n",
       "      <td>16.1000</td>\n",
       "      <td>NaN</td>\n",
       "      <td>S</td>\n",
       "      <td>A/5.</td>\n",
       "      <td>3336</td>\n",
       "    </tr>\n",
       "    <tr>\n",
       "      <th>379</th>\n",
       "      <td>0</td>\n",
       "      <td>3</td>\n",
       "      <td>Mr</td>\n",
       "      <td>male</td>\n",
       "      <td>19.0</td>\n",
       "      <td>0</td>\n",
       "      <td>0</td>\n",
       "      <td>7.7750</td>\n",
       "      <td>NaN</td>\n",
       "      <td>S</td>\n",
       "      <td>0</td>\n",
       "      <td>347069</td>\n",
       "    </tr>\n",
       "    <tr>\n",
       "      <th>725</th>\n",
       "      <td>0</td>\n",
       "      <td>3</td>\n",
       "      <td>Mr</td>\n",
       "      <td>male</td>\n",
       "      <td>20.0</td>\n",
       "      <td>0</td>\n",
       "      <td>0</td>\n",
       "      <td>8.6625</td>\n",
       "      <td>NaN</td>\n",
       "      <td>S</td>\n",
       "      <td>0</td>\n",
       "      <td>315094</td>\n",
       "    </tr>\n",
       "    <tr>\n",
       "      <th>826</th>\n",
       "      <td>0</td>\n",
       "      <td>3</td>\n",
       "      <td>Mr</td>\n",
       "      <td>male</td>\n",
       "      <td>28.0</td>\n",
       "      <td>0</td>\n",
       "      <td>0</td>\n",
       "      <td>56.4958</td>\n",
       "      <td>NaN</td>\n",
       "      <td>S</td>\n",
       "      <td>0</td>\n",
       "      <td>1601</td>\n",
       "    </tr>\n",
       "    <tr>\n",
       "      <th>450</th>\n",
       "      <td>0</td>\n",
       "      <td>2</td>\n",
       "      <td>Mr</td>\n",
       "      <td>male</td>\n",
       "      <td>36.0</td>\n",
       "      <td>1</td>\n",
       "      <td>2</td>\n",
       "      <td>27.7500</td>\n",
       "      <td>NaN</td>\n",
       "      <td>S</td>\n",
       "      <td>C.A.</td>\n",
       "      <td>34651</td>\n",
       "    </tr>\n",
       "  </tbody>\n",
       "</table>\n",
       "</div>"
      ],
      "text/plain": [
       "     Survived  Pclass Name     Sex   Age  SibSp  Parch     Fare Cabin  \\\n",
       "617         0       3  Mrs  female  26.0      1      0  16.1000   NaN   \n",
       "379         0       3   Mr    male  19.0      0      0   7.7750   NaN   \n",
       "725         0       3   Mr    male  20.0      0      0   8.6625   NaN   \n",
       "826         0       3   Mr    male  28.0      0      0  56.4958   NaN   \n",
       "450         0       2   Mr    male  36.0      1      2  27.7500   NaN   \n",
       "\n",
       "    Embarked Ticket Rank  Ticket Id  \n",
       "617        S        A/5.       3336  \n",
       "379        S           0     347069  \n",
       "725        S           0     315094  \n",
       "826        S           0       1601  \n",
       "450        S        C.A.      34651  "
      ]
     },
     "execution_count": 20,
     "metadata": {},
     "output_type": "execute_result"
    }
   ],
   "source": [
    "data.head()"
   ]
  },
  {
   "cell_type": "code",
   "execution_count": 21,
   "id": "bb8d0316-9eba-4e67-bc0b-c437ee226a29",
   "metadata": {},
   "outputs": [],
   "source": [
    "survived = data['Survived']"
   ]
  },
  {
   "cell_type": "code",
   "execution_count": 22,
   "id": "f2396116-2b1c-4fd4-9686-ad79b3810b05",
   "metadata": {},
   "outputs": [],
   "source": [
    "cabins = data['Cabin']\n",
    "new_cabins = []\n",
    "for cabin in cabins:\n",
    "    if type(cabin) == str:\n",
    "        new_cabins.append(1)\n",
    "    else:\n",
    "        new_cabins.append(0)"
   ]
  },
  {
   "cell_type": "code",
   "execution_count": 23,
   "id": "06729a30-8b15-426f-95b8-a25fb5521732",
   "metadata": {},
   "outputs": [],
   "source": [
    "survived = survived.tolist()"
   ]
  },
  {
   "cell_type": "code",
   "execution_count": 24,
   "id": "2d016b12-4044-4f85-860a-d320bab7e0b7",
   "metadata": {},
   "outputs": [],
   "source": [
    "test_df = pd.DataFrame({'survived':survived,'cabins':new_cabins})"
   ]
  },
  {
   "cell_type": "code",
   "execution_count": 25,
   "id": "5ccd6211-2692-40a9-84fd-a549d283a09c",
   "metadata": {},
   "outputs": [
    {
     "data": {
      "text/plain": [
       "<AxesSubplot:xlabel='cabins', ylabel='survived'>"
      ]
     },
     "execution_count": 25,
     "metadata": {},
     "output_type": "execute_result"
    },
    {
     "data": {
      "image/png": "[encoded data removed]",
      "text/plain": [
       "<Figure size 864x504 with 2 Axes>"
      ]
     },
     "metadata": {
      "needs_background": "light"
     },
     "output_type": "display_data"
    }
   ],
   "source": [
    "plt.figure(figsize=(12,7))\n",
    "sns.heatmap(pd.crosstab(test_df['survived'],test_df['cabins']))"
   ]
  },
  {
   "cell_type": "code",
   "execution_count": 26,
   "id": "4fe386bd-d8d6-47bd-9647-147abdf292e3",
   "metadata": {},
   "outputs": [
    {
     "data": {
      "text/html": [
       "<div>\n",
       "<style scoped>\n",
       "    .dataframe tbody tr th:only-of-type {\n",
       "        vertical-align: middle;\n",
       "    }\n",
       "\n",
       "    .dataframe tbody tr th {\n",
       "        vertical-align: top;\n",
       "    }\n",
       "\n",
       "    .dataframe thead th {\n",
       "        text-align: right;\n",
       "    }\n",
       "</style>\n",
       "<table border=\"1\" class=\"dataframe\">\n",
       "  <thead>\n",
       "    <tr style=\"text-align: right;\">\n",
       "      <th>cabins</th>\n",
       "      <th>0</th>\n",
       "      <th>1</th>\n",
       "    </tr>\n",
       "    <tr>\n",
       "      <th>survived</th>\n",
       "      <th></th>\n",
       "      <th></th>\n",
       "    </tr>\n",
       "  </thead>\n",
       "  <tbody>\n",
       "    <tr>\n",
       "      <th>0</th>\n",
       "      <td>481</td>\n",
       "      <td>68</td>\n",
       "    </tr>\n",
       "    <tr>\n",
       "      <th>1</th>\n",
       "      <td>206</td>\n",
       "      <td>136</td>\n",
       "    </tr>\n",
       "  </tbody>\n",
       "</table>\n",
       "</div>"
      ],
      "text/plain": [
       "cabins      0    1\n",
       "survived          \n",
       "0         481   68\n",
       "1         206  136"
      ]
     },
     "execution_count": 26,
     "metadata": {},
     "output_type": "execute_result"
    }
   ],
   "source": [
    "pd.crosstab(test_df['survived'],test_df['cabins'])"
   ]
  },
  {
   "cell_type": "code",
   "execution_count": 27,
   "id": "56838d56-d6cc-4eec-a2ed-4b1ba9b107f7",
   "metadata": {},
   "outputs": [],
   "source": [
    "data['Cabin'] = new_cabins"
   ]
  },
  {
   "cell_type": "code",
   "execution_count": 28,
   "id": "793ace71-2800-4ed8-a417-cc1785e7d263",
   "metadata": {},
   "outputs": [
    {
     "data": {
      "text/html": [
       "<div>\n",
       "<style scoped>\n",
       "    .dataframe tbody tr th:only-of-type {\n",
       "        vertical-align: middle;\n",
       "    }\n",
       "\n",
       "    .dataframe tbody tr th {\n",
       "        vertical-align: top;\n",
       "    }\n",
       "\n",
       "    .dataframe thead th {\n",
       "        text-align: right;\n",
       "    }\n",
       "</style>\n",
       "<table border=\"1\" class=\"dataframe\">\n",
       "  <thead>\n",
       "    <tr style=\"text-align: right;\">\n",
       "      <th></th>\n",
       "      <th>Survived</th>\n",
       "      <th>Pclass</th>\n",
       "      <th>Name</th>\n",
       "      <th>Sex</th>\n",
       "      <th>Age</th>\n",
       "      <th>SibSp</th>\n",
       "      <th>Parch</th>\n",
       "      <th>Fare</th>\n",
       "      <th>Cabin</th>\n",
       "      <th>Embarked</th>\n",
       "      <th>Ticket Rank</th>\n",
       "      <th>Ticket Id</th>\n",
       "    </tr>\n",
       "  </thead>\n",
       "  <tbody>\n",
       "    <tr>\n",
       "      <th>617</th>\n",
       "      <td>0</td>\n",
       "      <td>3</td>\n",
       "      <td>Mrs</td>\n",
       "      <td>female</td>\n",
       "      <td>26.0</td>\n",
       "      <td>1</td>\n",
       "      <td>0</td>\n",
       "      <td>16.1000</td>\n",
       "      <td>0</td>\n",
       "      <td>S</td>\n",
       "      <td>A/5.</td>\n",
       "      <td>3336</td>\n",
       "    </tr>\n",
       "    <tr>\n",
       "      <th>379</th>\n",
       "      <td>0</td>\n",
       "      <td>3</td>\n",
       "      <td>Mr</td>\n",
       "      <td>male</td>\n",
       "      <td>19.0</td>\n",
       "      <td>0</td>\n",
       "      <td>0</td>\n",
       "      <td>7.7750</td>\n",
       "      <td>0</td>\n",
       "      <td>S</td>\n",
       "      <td>0</td>\n",
       "      <td>347069</td>\n",
       "    </tr>\n",
       "    <tr>\n",
       "      <th>725</th>\n",
       "      <td>0</td>\n",
       "      <td>3</td>\n",
       "      <td>Mr</td>\n",
       "      <td>male</td>\n",
       "      <td>20.0</td>\n",
       "      <td>0</td>\n",
       "      <td>0</td>\n",
       "      <td>8.6625</td>\n",
       "      <td>0</td>\n",
       "      <td>S</td>\n",
       "      <td>0</td>\n",
       "      <td>315094</td>\n",
       "    </tr>\n",
       "    <tr>\n",
       "      <th>826</th>\n",
       "      <td>0</td>\n",
       "      <td>3</td>\n",
       "      <td>Mr</td>\n",
       "      <td>male</td>\n",
       "      <td>28.0</td>\n",
       "      <td>0</td>\n",
       "      <td>0</td>\n",
       "      <td>56.4958</td>\n",
       "      <td>0</td>\n",
       "      <td>S</td>\n",
       "      <td>0</td>\n",
       "      <td>1601</td>\n",
       "    </tr>\n",
       "    <tr>\n",
       "      <th>450</th>\n",
       "      <td>0</td>\n",
       "      <td>2</td>\n",
       "      <td>Mr</td>\n",
       "      <td>male</td>\n",
       "      <td>36.0</td>\n",
       "      <td>1</td>\n",
       "      <td>2</td>\n",
       "      <td>27.7500</td>\n",
       "      <td>0</td>\n",
       "      <td>S</td>\n",
       "      <td>C.A.</td>\n",
       "      <td>34651</td>\n",
       "    </tr>\n",
       "  </tbody>\n",
       "</table>\n",
       "</div>"
      ],
      "text/plain": [
       "     Survived  Pclass Name     Sex   Age  SibSp  Parch     Fare  Cabin  \\\n",
       "617         0       3  Mrs  female  26.0      1      0  16.1000      0   \n",
       "379         0       3   Mr    male  19.0      0      0   7.7750      0   \n",
       "725         0       3   Mr    male  20.0      0      0   8.6625      0   \n",
       "826         0       3   Mr    male  28.0      0      0  56.4958      0   \n",
       "450         0       2   Mr    male  36.0      1      2  27.7500      0   \n",
       "\n",
       "    Embarked Ticket Rank  Ticket Id  \n",
       "617        S        A/5.       3336  \n",
       "379        S           0     347069  \n",
       "725        S           0     315094  \n",
       "826        S           0       1601  \n",
       "450        S        C.A.      34651  "
      ]
     },
     "execution_count": 28,
     "metadata": {},
     "output_type": "execute_result"
    }
   ],
   "source": [
    "data.head()"
   ]
  },
  {
   "cell_type": "code",
   "execution_count": 29,
   "id": "f4f71ccb-8095-490c-97ad-78528971e869",
   "metadata": {},
   "outputs": [],
   "source": [
    "data,idx,labels_and_int_index,new_data = object_to_int(data,'Name')\n",
    "data,idx,labels_and_int_index,new_data = object_to_int(data,'Sex')\n",
    "data,idx,labels_and_int_index,new_data = object_to_int(data,'Name')\n",
    "data,idx,labels_and_int_index,new_data = object_to_int(data,'Ticket Rank')\n",
    "data,idx,labels_and_int_index,new_data = object_to_int(data,'Embarked')"
   ]
  },
  {
   "cell_type": "code",
   "execution_count": 30,
   "id": "0206c0de-78ad-4719-b73a-0ddb56ef33ff",
   "metadata": {},
   "outputs": [
    {
     "data": {
      "text/html": [
       "<div>\n",
       "<style scoped>\n",
       "    .dataframe tbody tr th:only-of-type {\n",
       "        vertical-align: middle;\n",
       "    }\n",
       "\n",
       "    .dataframe tbody tr th {\n",
       "        vertical-align: top;\n",
       "    }\n",
       "\n",
       "    .dataframe thead th {\n",
       "        text-align: right;\n",
       "    }\n",
       "</style>\n",
       "<table border=\"1\" class=\"dataframe\">\n",
       "  <thead>\n",
       "    <tr style=\"text-align: right;\">\n",
       "      <th></th>\n",
       "      <th>Survived</th>\n",
       "      <th>Pclass</th>\n",
       "      <th>Name</th>\n",
       "      <th>Sex</th>\n",
       "      <th>Age</th>\n",
       "      <th>SibSp</th>\n",
       "      <th>Parch</th>\n",
       "      <th>Fare</th>\n",
       "      <th>Cabin</th>\n",
       "      <th>Embarked</th>\n",
       "      <th>Ticket Rank</th>\n",
       "      <th>Ticket Id</th>\n",
       "    </tr>\n",
       "  </thead>\n",
       "  <tbody>\n",
       "    <tr>\n",
       "      <th>617</th>\n",
       "      <td>0</td>\n",
       "      <td>3</td>\n",
       "      <td>0</td>\n",
       "      <td>0</td>\n",
       "      <td>26.0</td>\n",
       "      <td>1</td>\n",
       "      <td>0</td>\n",
       "      <td>16.1000</td>\n",
       "      <td>0</td>\n",
       "      <td>0</td>\n",
       "      <td>0</td>\n",
       "      <td>3336</td>\n",
       "    </tr>\n",
       "    <tr>\n",
       "      <th>379</th>\n",
       "      <td>0</td>\n",
       "      <td>3</td>\n",
       "      <td>1</td>\n",
       "      <td>1</td>\n",
       "      <td>19.0</td>\n",
       "      <td>0</td>\n",
       "      <td>0</td>\n",
       "      <td>7.7750</td>\n",
       "      <td>0</td>\n",
       "      <td>0</td>\n",
       "      <td>1</td>\n",
       "      <td>347069</td>\n",
       "    </tr>\n",
       "    <tr>\n",
       "      <th>725</th>\n",
       "      <td>0</td>\n",
       "      <td>3</td>\n",
       "      <td>1</td>\n",
       "      <td>1</td>\n",
       "      <td>20.0</td>\n",
       "      <td>0</td>\n",
       "      <td>0</td>\n",
       "      <td>8.6625</td>\n",
       "      <td>0</td>\n",
       "      <td>0</td>\n",
       "      <td>1</td>\n",
       "      <td>315094</td>\n",
       "    </tr>\n",
       "    <tr>\n",
       "      <th>826</th>\n",
       "      <td>0</td>\n",
       "      <td>3</td>\n",
       "      <td>1</td>\n",
       "      <td>1</td>\n",
       "      <td>28.0</td>\n",
       "      <td>0</td>\n",
       "      <td>0</td>\n",
       "      <td>56.4958</td>\n",
       "      <td>0</td>\n",
       "      <td>0</td>\n",
       "      <td>1</td>\n",
       "      <td>1601</td>\n",
       "    </tr>\n",
       "    <tr>\n",
       "      <th>450</th>\n",
       "      <td>0</td>\n",
       "      <td>2</td>\n",
       "      <td>1</td>\n",
       "      <td>1</td>\n",
       "      <td>36.0</td>\n",
       "      <td>1</td>\n",
       "      <td>2</td>\n",
       "      <td>27.7500</td>\n",
       "      <td>0</td>\n",
       "      <td>0</td>\n",
       "      <td>2</td>\n",
       "      <td>34651</td>\n",
       "    </tr>\n",
       "  </tbody>\n",
       "</table>\n",
       "</div>"
      ],
      "text/plain": [
       "     Survived  Pclass  Name  Sex   Age  SibSp  Parch     Fare  Cabin  \\\n",
       "617         0       3     0    0  26.0      1      0  16.1000      0   \n",
       "379         0       3     1    1  19.0      0      0   7.7750      0   \n",
       "725         0       3     1    1  20.0      0      0   8.6625      0   \n",
       "826         0       3     1    1  28.0      0      0  56.4958      0   \n",
       "450         0       2     1    1  36.0      1      2  27.7500      0   \n",
       "\n",
       "     Embarked  Ticket Rank  Ticket Id  \n",
       "617         0            0       3336  \n",
       "379         0            1     347069  \n",
       "725         0            1     315094  \n",
       "826         0            1       1601  \n",
       "450         0            2      34651  "
      ]
     },
     "execution_count": 30,
     "metadata": {},
     "output_type": "execute_result"
    }
   ],
   "source": [
    "data.head()"
   ]
  },
  {
   "cell_type": "code",
   "execution_count": 31,
   "id": "26fd5012-0318-4fb9-a17c-547ba9163c94",
   "metadata": {},
   "outputs": [
    {
     "data": {
      "text/html": [
       "<div>\n",
       "<style scoped>\n",
       "    .dataframe tbody tr th:only-of-type {\n",
       "        vertical-align: middle;\n",
       "    }\n",
       "\n",
       "    .dataframe tbody tr th {\n",
       "        vertical-align: top;\n",
       "    }\n",
       "\n",
       "    .dataframe thead th {\n",
       "        text-align: right;\n",
       "    }\n",
       "</style>\n",
       "<table border=\"1\" class=\"dataframe\">\n",
       "  <thead>\n",
       "    <tr style=\"text-align: right;\">\n",
       "      <th>Embarked</th>\n",
       "      <th>0</th>\n",
       "      <th>1</th>\n",
       "      <th>2</th>\n",
       "      <th>3</th>\n",
       "    </tr>\n",
       "    <tr>\n",
       "      <th>survived</th>\n",
       "      <th></th>\n",
       "      <th></th>\n",
       "      <th></th>\n",
       "      <th></th>\n",
       "    </tr>\n",
       "  </thead>\n",
       "  <tbody>\n",
       "    <tr>\n",
       "      <th>0</th>\n",
       "      <td>427</td>\n",
       "      <td>75</td>\n",
       "      <td>47</td>\n",
       "      <td>0</td>\n",
       "    </tr>\n",
       "    <tr>\n",
       "      <th>1</th>\n",
       "      <td>217</td>\n",
       "      <td>93</td>\n",
       "      <td>30</td>\n",
       "      <td>2</td>\n",
       "    </tr>\n",
       "  </tbody>\n",
       "</table>\n",
       "</div>"
      ],
      "text/plain": [
       "Embarked    0   1   2  3\n",
       "survived                \n",
       "0         427  75  47  0\n",
       "1         217  93  30  2"
      ]
     },
     "execution_count": 31,
     "metadata": {},
     "output_type": "execute_result"
    }
   ],
   "source": [
    "test_df = pd.DataFrame({'survived':data['Survived'],'Embarked':data['Embarked']})\n",
    "pd.crosstab(test_df['survived'],test_df['Embarked'])"
   ]
  },
  {
   "cell_type": "code",
   "execution_count": 32,
   "id": "18aee187-f316-4e38-87ae-c16248fc4ab2",
   "metadata": {},
   "outputs": [],
   "source": [
    "X = data.drop('Survived',axis=1)\n",
    "y = data['Survived']"
   ]
  },
  {
   "cell_type": "code",
   "execution_count": 33,
   "id": "e79d3668-fe14-4f90-b19a-0ec670631536",
   "metadata": {},
   "outputs": [],
   "source": [
    "data_old = data.copy()"
   ]
  },
  {
   "cell_type": "code",
   "execution_count": 34,
   "id": "bf5f7233-8775-4d6d-9d99-fdd94d2cdc95",
   "metadata": {},
   "outputs": [
    {
     "name": "stderr",
     "output_type": "stream",
     "text": [
      "\u001b[34m\u001b[1mwandb\u001b[0m: Currently logged in as: \u001b[33mranuga-d\u001b[0m (use `wandb login --relogin` to force relogin)\n"
     ]
    },
    {
     "data": {
      "text/html": [
       "\n",
       "                Tracking run with wandb version 0.12.0<br/>\n",
       "                Syncing run <strong style=\"color:#cdcd00\">Pclass-fe</strong> to <a href=\"https://wandb.ai\" target=\"_blank\">Weights & Biases</a> <a href=\"https://docs.wandb.com/integrations/jupyter.html\" target=\"_blank\">(Documentation)</a>.<br/>\n",
       "                Project page: <a href=\"https://wandb.ai/ranuga-d/Titanic-V5-Competition\" target=\"_blank\">https://wandb.ai/ranuga-d/Titanic-V5-Competition</a><br/>\n",
       "                Run page: <a href=\"https://wandb.ai/ranuga-d/Titanic-V5-Competition/runs/29l57jyr\" target=\"_blank\">https://wandb.ai/ranuga-d/Titanic-V5-Competition/runs/29l57jyr</a><br/>\n",
       "                Run data is saved locally in <code>/home/indika/Programming/Projects/Python/Artifical-Intelligence/Sklearn-PyTorch/Titanic-V5-Competition/wandb/run-20210824_123447-29l57jyr</code><br/><br/>\n",
       "            "
      ],
      "text/plain": [
       "<IPython.core.display.HTML object>"
      ]
     },
     "metadata": {},
     "output_type": "display_data"
    },
    {
     "name": "stdout",
     "output_type": "stream",
     "text": [
      "11\n"
     ]
    },
    {
     "data": {
      "text/html": [
       "Finishing last run (ID:29l57jyr) before initializing another..."
      ],
      "text/plain": [
       "<IPython.core.display.HTML object>"
      ]
     },
     "metadata": {},
     "output_type": "display_data"
    },
    {
     "data": {
      "text/html": [
       "<br/>Waiting for W&B process to finish, PID 327306<br/>Program ended successfully."
      ],
      "text/plain": [
       "<IPython.core.display.HTML object>"
      ]
     },
     "metadata": {},
     "output_type": "display_data"
    },
    {
     "data": {
      "application/vnd.jupyter.widget-view+json": {
       "model_id": "",
       "version_major": 2,
       "version_minor": 0
      },
      "text/plain": [
       "VBox(children=(Label(value=' 0.09MB of 0.09MB uploaded (0.00MB deduped)\\r'), FloatProgress(value=1.0, max=1.0)…"
      ]
     },
     "metadata": {},
     "output_type": "display_data"
    },
    {
     "data": {
      "text/html": [
       "Find user logs for this run at: <code>/home/indika/Programming/Projects/Python/Artifical-Intelligence/Sklearn-PyTorch/Titanic-V5-Competition/wandb/run-20210824_123447-29l57jyr/logs/debug.log</code>"
      ],
      "text/plain": [
       "<IPython.core.display.HTML object>"
      ]
     },
     "metadata": {},
     "output_type": "display_data"
    },
    {
     "data": {
      "text/html": [
       "Find internal logs for this run at: <code>/home/indika/Programming/Projects/Python/Artifical-Intelligence/Sklearn-PyTorch/Titanic-V5-Competition/wandb/run-20210824_123447-29l57jyr/logs/debug-internal.log</code>"
      ],
      "text/plain": [
       "<IPython.core.display.HTML object>"
      ]
     },
     "metadata": {},
     "output_type": "display_data"
    },
    {
     "data": {
      "text/html": [
       "<h3>Run summary:</h3><br/><style>\n",
       "    table.wandb td:nth-child(1) { padding: 0 10px; text-align: right }\n",
       "    </style><table class=\"wandb\">\n",
       "<tr><td>val accuracy_score</td><td>1.0</td></tr><tr><td>val precision_score</td><td>1.0</td></tr><tr><td>val f1_score</td><td>1.0</td></tr><tr><td>val recall_score</td><td>1.0</td></tr><tr><td>_runtime</td><td>7</td></tr><tr><td>_timestamp</td><td>1629788694</td></tr><tr><td>_step</td><td>2</td></tr><tr><td>accuracy_score</td><td>1.0</td></tr><tr><td>precision_score</td><td>1.0</td></tr><tr><td>f1_score</td><td>1.0</td></tr><tr><td>recall_score</td><td>1.0</td></tr></table>"
      ],
      "text/plain": [
       "<IPython.core.display.HTML object>"
      ]
     },
     "metadata": {},
     "output_type": "display_data"
    },
    {
     "data": {
      "text/html": [
       "<h3>Run history:</h3><br/><style>\n",
       "    table.wandb td:nth-child(1) { padding: 0 10px; text-align: right }\n",
       "    </style><table class=\"wandb\">\n",
       "<tr><td>val accuracy_score</td><td>▁</td></tr><tr><td>val precision_score</td><td>▁</td></tr><tr><td>val f1_score</td><td>▁</td></tr><tr><td>val recall_score</td><td>▁</td></tr><tr><td>_runtime</td><td>▁▁█</td></tr><tr><td>_timestamp</td><td>▁▁█</td></tr><tr><td>_step</td><td>▁▅█</td></tr><tr><td>accuracy_score</td><td>▁</td></tr><tr><td>precision_score</td><td>▁</td></tr><tr><td>f1_score</td><td>▁</td></tr><tr><td>recall_score</td><td>▁</td></tr></table><br/>"
      ],
      "text/plain": [
       "<IPython.core.display.HTML object>"
      ]
     },
     "metadata": {},
     "output_type": "display_data"
    },
    {
     "data": {
      "text/html": [
       "Synced 6 W&B file(s), 1 media file(s), 3 artifact file(s) and 1 other file(s)"
      ],
      "text/plain": [
       "<IPython.core.display.HTML object>"
      ]
     },
     "metadata": {},
     "output_type": "display_data"
    },
    {
     "data": {
      "text/html": [
       "\n",
       "                    <br/>Synced <strong style=\"color:#cdcd00\">Pclass-fe</strong>: <a href=\"https://wandb.ai/ranuga-d/Titanic-V5-Competition/runs/29l57jyr\" target=\"_blank\">https://wandb.ai/ranuga-d/Titanic-V5-Competition/runs/29l57jyr</a><br/>\n",
       "                "
      ],
      "text/plain": [
       "<IPython.core.display.HTML object>"
      ]
     },
     "metadata": {},
     "output_type": "display_data"
    },
    {
     "data": {
      "text/html": [
       "...Successfully finished last run (ID:29l57jyr). Initializing new run:<br/><br/>"
      ],
      "text/plain": [
       "<IPython.core.display.HTML object>"
      ]
     },
     "metadata": {},
     "output_type": "display_data"
    },
    {
     "data": {
      "text/html": [
       "\n",
       "                Tracking run with wandb version 0.12.0<br/>\n",
       "                Syncing run <strong style=\"color:#cdcd00\">Name-fe</strong> to <a href=\"https://wandb.ai\" target=\"_blank\">Weights & Biases</a> <a href=\"https://docs.wandb.com/integrations/jupyter.html\" target=\"_blank\">(Documentation)</a>.<br/>\n",
       "                Project page: <a href=\"https://wandb.ai/ranuga-d/Titanic-V5-Competition\" target=\"_blank\">https://wandb.ai/ranuga-d/Titanic-V5-Competition</a><br/>\n",
       "                Run page: <a href=\"https://wandb.ai/ranuga-d/Titanic-V5-Competition/runs/1aud5yxh\" target=\"_blank\">https://wandb.ai/ranuga-d/Titanic-V5-Competition/runs/1aud5yxh</a><br/>\n",
       "                Run data is saved locally in <code>/home/indika/Programming/Projects/Python/Artifical-Intelligence/Sklearn-PyTorch/Titanic-V5-Competition/wandb/run-20210824_123456-1aud5yxh</code><br/><br/>\n",
       "            "
      ],
      "text/plain": [
       "<IPython.core.display.HTML object>"
      ]
     },
     "metadata": {},
     "output_type": "display_data"
    },
    {
     "name": "stdout",
     "output_type": "stream",
     "text": [
      "11\n"
     ]
    },
    {
     "data": {
      "text/html": [
       "Finishing last run (ID:1aud5yxh) before initializing another..."
      ],
      "text/plain": [
       "<IPython.core.display.HTML object>"
      ]
     },
     "metadata": {},
     "output_type": "display_data"
    },
    {
     "data": {
      "text/html": [
       "<br/>Waiting for W&B process to finish, PID 327815<br/>Program ended successfully."
      ],
      "text/plain": [
       "<IPython.core.display.HTML object>"
      ]
     },
     "metadata": {},
     "output_type": "display_data"
    },
    {
     "data": {
      "application/vnd.jupyter.widget-view+json": {
       "model_id": "",
       "version_major": 2,
       "version_minor": 0
      },
      "text/plain": [
       "VBox(children=(Label(value=' 0.00MB of 0.00MB uploaded (0.00MB deduped)\\r'), FloatProgress(value=0.72381930184…"
      ]
     },
     "metadata": {},
     "output_type": "display_data"
    },
    {
     "data": {
      "text/html": [
       "Find user logs for this run at: <code>/home/indika/Programming/Projects/Python/Artifical-Intelligence/Sklearn-PyTorch/Titanic-V5-Competition/wandb/run-20210824_123456-1aud5yxh/logs/debug.log</code>"
      ],
      "text/plain": [
       "<IPython.core.display.HTML object>"
      ]
     },
     "metadata": {},
     "output_type": "display_data"
    },
    {
     "data": {
      "text/html": [
       "Find internal logs for this run at: <code>/home/indika/Programming/Projects/Python/Artifical-Intelligence/Sklearn-PyTorch/Titanic-V5-Competition/wandb/run-20210824_123456-1aud5yxh/logs/debug-internal.log</code>"
      ],
      "text/plain": [
       "<IPython.core.display.HTML object>"
      ]
     },
     "metadata": {},
     "output_type": "display_data"
    },
    {
     "data": {
      "text/html": [
       "<h3>Run summary:</h3><br/><style>\n",
       "    table.wandb td:nth-child(1) { padding: 0 10px; text-align: right }\n",
       "    </style><table class=\"wandb\">\n",
       "<tr><td>val accuracy_score</td><td>0.929</td></tr><tr><td>val precision_score</td><td>0.92188</td></tr><tr><td>val f1_score</td><td>0.88279</td></tr><tr><td>val recall_score</td><td>0.84689</td></tr><tr><td>_runtime</td><td>8</td></tr><tr><td>_timestamp</td><td>1629788727</td></tr><tr><td>_step</td><td>2</td></tr><tr><td>accuracy_score</td><td>0.81053</td></tr><tr><td>precision_score</td><td>0.7619</td></tr><tr><td>f1_score</td><td>0.64</td></tr><tr><td>recall_score</td><td>0.55172</td></tr></table>"
      ],
      "text/plain": [
       "<IPython.core.display.HTML object>"
      ]
     },
     "metadata": {},
     "output_type": "display_data"
    },
    {
     "data": {
      "text/html": [
       "<h3>Run history:</h3><br/><style>\n",
       "    table.wandb td:nth-child(1) { padding: 0 10px; text-align: right }\n",
       "    </style><table class=\"wandb\">\n",
       "<tr><td>val accuracy_score</td><td>▁</td></tr><tr><td>val precision_score</td><td>▁</td></tr><tr><td>val f1_score</td><td>▁</td></tr><tr><td>val recall_score</td><td>▁</td></tr><tr><td>_runtime</td><td>▁▁█</td></tr><tr><td>_timestamp</td><td>▁▁█</td></tr><tr><td>_step</td><td>▁▅█</td></tr><tr><td>accuracy_score</td><td>▁</td></tr><tr><td>precision_score</td><td>▁</td></tr><tr><td>f1_score</td><td>▁</td></tr><tr><td>recall_score</td><td>▁</td></tr></table><br/>"
      ],
      "text/plain": [
       "<IPython.core.display.HTML object>"
      ]
     },
     "metadata": {},
     "output_type": "display_data"
    },
    {
     "data": {
      "text/html": [
       "Synced 6 W&B file(s), 1 media file(s), 1 artifact file(s) and 0 other file(s)"
      ],
      "text/plain": [
       "<IPython.core.display.HTML object>"
      ]
     },
     "metadata": {},
     "output_type": "display_data"
    },
    {
     "data": {
      "text/html": [
       "\n",
       "                    <br/>Synced <strong style=\"color:#cdcd00\">Name-fe</strong>: <a href=\"https://wandb.ai/ranuga-d/Titanic-V5-Competition/runs/1aud5yxh\" target=\"_blank\">https://wandb.ai/ranuga-d/Titanic-V5-Competition/runs/1aud5yxh</a><br/>\n",
       "                "
      ],
      "text/plain": [
       "<IPython.core.display.HTML object>"
      ]
     },
     "metadata": {},
     "output_type": "display_data"
    },
    {
     "data": {
      "text/html": [
       "...Successfully finished last run (ID:1aud5yxh). Initializing new run:<br/><br/>"
      ],
      "text/plain": [
       "<IPython.core.display.HTML object>"
      ]
     },
     "metadata": {},
     "output_type": "display_data"
    },
    {
     "data": {
      "text/html": [
       "\n",
       "                Tracking run with wandb version 0.12.0<br/>\n",
       "                Syncing run <strong style=\"color:#cdcd00\">Age-fe</strong> to <a href=\"https://wandb.ai\" target=\"_blank\">Weights & Biases</a> <a href=\"https://docs.wandb.com/integrations/jupyter.html\" target=\"_blank\">(Documentation)</a>.<br/>\n",
       "                Project page: <a href=\"https://wandb.ai/ranuga-d/Titanic-V5-Competition\" target=\"_blank\">https://wandb.ai/ranuga-d/Titanic-V5-Competition</a><br/>\n",
       "                Run page: <a href=\"https://wandb.ai/ranuga-d/Titanic-V5-Competition/runs/391qg5r8\" target=\"_blank\">https://wandb.ai/ranuga-d/Titanic-V5-Competition/runs/391qg5r8</a><br/>\n",
       "                Run data is saved locally in <code>/home/indika/Programming/Projects/Python/Artifical-Intelligence/Sklearn-PyTorch/Titanic-V5-Competition/wandb/run-20210824_123528-391qg5r8</code><br/><br/>\n",
       "            "
      ],
      "text/plain": [
       "<IPython.core.display.HTML object>"
      ]
     },
     "metadata": {},
     "output_type": "display_data"
    },
    {
     "name": "stdout",
     "output_type": "stream",
     "text": [
      "11\n"
     ]
    },
    {
     "data": {
      "text/html": [
       "Finishing last run (ID:391qg5r8) before initializing another..."
      ],
      "text/plain": [
       "<IPython.core.display.HTML object>"
      ]
     },
     "metadata": {},
     "output_type": "display_data"
    },
    {
     "data": {
      "text/html": [
       "<br/>Waiting for W&B process to finish, PID 328160<br/>Program ended successfully."
      ],
      "text/plain": [
       "<IPython.core.display.HTML object>"
      ]
     },
     "metadata": {},
     "output_type": "display_data"
    },
    {
     "data": {
      "application/vnd.jupyter.widget-view+json": {
       "model_id": "",
       "version_major": 2,
       "version_minor": 0
      },
      "text/plain": [
       "VBox(children=(Label(value=' 0.09MB of 0.09MB uploaded (0.00MB deduped)\\r'), FloatProgress(value=1.0, max=1.0)…"
      ]
     },
     "metadata": {},
     "output_type": "display_data"
    },
    {
     "data": {
      "text/html": [
       "Find user logs for this run at: <code>/home/indika/Programming/Projects/Python/Artifical-Intelligence/Sklearn-PyTorch/Titanic-V5-Competition/wandb/run-20210824_123528-391qg5r8/logs/debug.log</code>"
      ],
      "text/plain": [
       "<IPython.core.display.HTML object>"
      ]
     },
     "metadata": {},
     "output_type": "display_data"
    },
    {
     "data": {
      "text/html": [
       "Find internal logs for this run at: <code>/home/indika/Programming/Projects/Python/Artifical-Intelligence/Sklearn-PyTorch/Titanic-V5-Competition/wandb/run-20210824_123528-391qg5r8/logs/debug-internal.log</code>"
      ],
      "text/plain": [
       "<IPython.core.display.HTML object>"
      ]
     },
     "metadata": {},
     "output_type": "display_data"
    },
    {
     "data": {
      "text/html": [
       "<h3>Run summary:</h3><br/><style>\n",
       "    table.wandb td:nth-child(1) { padding: 0 10px; text-align: right }\n",
       "    </style><table class=\"wandb\">\n",
       "<tr><td>val accuracy_score</td><td>0.91484</td></tr><tr><td>val precision_score</td><td>0.93004</td></tr><tr><td>val f1_score</td><td>0.87938</td></tr><tr><td>val recall_score</td><td>0.83395</td></tr><tr><td>_runtime</td><td>11</td></tr><tr><td>_timestamp</td><td>1629788748</td></tr><tr><td>_step</td><td>2</td></tr><tr><td>accuracy_score</td><td>0.85714</td></tr><tr><td>precision_score</td><td>0.80556</td></tr><tr><td>f1_score</td><td>0.79452</td></tr><tr><td>recall_score</td><td>0.78378</td></tr></table>"
      ],
      "text/plain": [
       "<IPython.core.display.HTML object>"
      ]
     },
     "metadata": {},
     "output_type": "display_data"
    },
    {
     "data": {
      "text/html": [
       "<h3>Run history:</h3><br/><style>\n",
       "    table.wandb td:nth-child(1) { padding: 0 10px; text-align: right }\n",
       "    </style><table class=\"wandb\">\n",
       "<tr><td>val accuracy_score</td><td>▁</td></tr><tr><td>val precision_score</td><td>▁</td></tr><tr><td>val f1_score</td><td>▁</td></tr><tr><td>val recall_score</td><td>▁</td></tr><tr><td>_runtime</td><td>▁▁█</td></tr><tr><td>_timestamp</td><td>▁▁█</td></tr><tr><td>_step</td><td>▁▅█</td></tr><tr><td>accuracy_score</td><td>▁</td></tr><tr><td>precision_score</td><td>▁</td></tr><tr><td>f1_score</td><td>▁</td></tr><tr><td>recall_score</td><td>▁</td></tr></table><br/>"
      ],
      "text/plain": [
       "<IPython.core.display.HTML object>"
      ]
     },
     "metadata": {},
     "output_type": "display_data"
    },
    {
     "data": {
      "text/html": [
       "Synced 6 W&B file(s), 1 media file(s), 3 artifact file(s) and 1 other file(s)"
      ],
      "text/plain": [
       "<IPython.core.display.HTML object>"
      ]
     },
     "metadata": {},
     "output_type": "display_data"
    },
    {
     "data": {
      "text/html": [
       "\n",
       "                    <br/>Synced <strong style=\"color:#cdcd00\">Age-fe</strong>: <a href=\"https://wandb.ai/ranuga-d/Titanic-V5-Competition/runs/391qg5r8\" target=\"_blank\">https://wandb.ai/ranuga-d/Titanic-V5-Competition/runs/391qg5r8</a><br/>\n",
       "                "
      ],
      "text/plain": [
       "<IPython.core.display.HTML object>"
      ]
     },
     "metadata": {},
     "output_type": "display_data"
    },
    {
     "data": {
      "text/html": [
       "...Successfully finished last run (ID:391qg5r8). Initializing new run:<br/><br/>"
      ],
      "text/plain": [
       "<IPython.core.display.HTML object>"
      ]
     },
     "metadata": {},
     "output_type": "display_data"
    },
    {
     "data": {
      "text/html": [
       "\n",
       "                Tracking run with wandb version 0.12.0<br/>\n",
       "                Syncing run <strong style=\"color:#cdcd00\">SibSp-fe</strong> to <a href=\"https://wandb.ai\" target=\"_blank\">Weights & Biases</a> <a href=\"https://docs.wandb.com/integrations/jupyter.html\" target=\"_blank\">(Documentation)</a>.<br/>\n",
       "                Project page: <a href=\"https://wandb.ai/ranuga-d/Titanic-V5-Competition\" target=\"_blank\">https://wandb.ai/ranuga-d/Titanic-V5-Competition</a><br/>\n",
       "                Run page: <a href=\"https://wandb.ai/ranuga-d/Titanic-V5-Competition/runs/3amvsa4v\" target=\"_blank\">https://wandb.ai/ranuga-d/Titanic-V5-Competition/runs/3amvsa4v</a><br/>\n",
       "                Run data is saved locally in <code>/home/indika/Programming/Projects/Python/Artifical-Intelligence/Sklearn-PyTorch/Titanic-V5-Competition/wandb/run-20210824_123551-3amvsa4v</code><br/><br/>\n",
       "            "
      ],
      "text/plain": [
       "<IPython.core.display.HTML object>"
      ]
     },
     "metadata": {},
     "output_type": "display_data"
    },
    {
     "name": "stdout",
     "output_type": "stream",
     "text": [
      "11\n"
     ]
    },
    {
     "data": {
      "text/html": [
       "Finishing last run (ID:3amvsa4v) before initializing another..."
      ],
      "text/plain": [
       "<IPython.core.display.HTML object>"
      ]
     },
     "metadata": {},
     "output_type": "display_data"
    },
    {
     "data": {
      "text/html": [
       "<br/>Waiting for W&B process to finish, PID 328496<br/>Program ended successfully."
      ],
      "text/plain": [
       "<IPython.core.display.HTML object>"
      ]
     },
     "metadata": {},
     "output_type": "display_data"
    },
    {
     "data": {
      "application/vnd.jupyter.widget-view+json": {
       "model_id": "",
       "version_major": 2,
       "version_minor": 0
      },
      "text/plain": [
       "VBox(children=(Label(value=' 0.00MB of 0.00MB uploaded (0.00MB deduped)\\r'), FloatProgress(value=0.72661122661…"
      ]
     },
     "metadata": {},
     "output_type": "display_data"
    },
    {
     "data": {
      "text/html": [
       "Find user logs for this run at: <code>/home/indika/Programming/Projects/Python/Artifical-Intelligence/Sklearn-PyTorch/Titanic-V5-Competition/wandb/run-20210824_123551-3amvsa4v/logs/debug.log</code>"
      ],
      "text/plain": [
       "<IPython.core.display.HTML object>"
      ]
     },
     "metadata": {},
     "output_type": "display_data"
    },
    {
     "data": {
      "text/html": [
       "Find internal logs for this run at: <code>/home/indika/Programming/Projects/Python/Artifical-Intelligence/Sklearn-PyTorch/Titanic-V5-Competition/wandb/run-20210824_123551-3amvsa4v/logs/debug-internal.log</code>"
      ],
      "text/plain": [
       "<IPython.core.display.HTML object>"
      ]
     },
     "metadata": {},
     "output_type": "display_data"
    },
    {
     "data": {
      "text/html": [
       "<h3>Run summary:</h3><br/><style>\n",
       "    table.wandb td:nth-child(1) { padding: 0 10px; text-align: right }\n",
       "    </style><table class=\"wandb\">\n",
       "<tr><td>val accuracy_score</td><td>0.98734</td></tr><tr><td>val precision_score</td><td>1.0</td></tr><tr><td>val f1_score</td><td>0.98712</td></tr><tr><td>val recall_score</td><td>0.97458</td></tr><tr><td>_runtime</td><td>8</td></tr><tr><td>_timestamp</td><td>1629788772</td></tr><tr><td>_step</td><td>2</td></tr><tr><td>accuracy_score</td><td>0.85294</td></tr><tr><td>precision_score</td><td>0.8</td></tr><tr><td>f1_score</td><td>0.82759</td></tr><tr><td>recall_score</td><td>0.85714</td></tr></table>"
      ],
      "text/plain": [
       "<IPython.core.display.HTML object>"
      ]
     },
     "metadata": {},
     "output_type": "display_data"
    },
    {
     "data": {
      "text/html": [
       "<h3>Run history:</h3><br/><style>\n",
       "    table.wandb td:nth-child(1) { padding: 0 10px; text-align: right }\n",
       "    </style><table class=\"wandb\">\n",
       "<tr><td>val accuracy_score</td><td>▁</td></tr><tr><td>val precision_score</td><td>▁</td></tr><tr><td>val f1_score</td><td>▁</td></tr><tr><td>val recall_score</td><td>▁</td></tr><tr><td>_runtime</td><td>▁▁█</td></tr><tr><td>_timestamp</td><td>▁▁█</td></tr><tr><td>_step</td><td>▁▅█</td></tr><tr><td>accuracy_score</td><td>▁</td></tr><tr><td>precision_score</td><td>▁</td></tr><tr><td>f1_score</td><td>▁</td></tr><tr><td>recall_score</td><td>▁</td></tr></table><br/>"
      ],
      "text/plain": [
       "<IPython.core.display.HTML object>"
      ]
     },
     "metadata": {},
     "output_type": "display_data"
    },
    {
     "data": {
      "text/html": [
       "Synced 6 W&B file(s), 1 media file(s), 1 artifact file(s) and 0 other file(s)"
      ],
      "text/plain": [
       "<IPython.core.display.HTML object>"
      ]
     },
     "metadata": {},
     "output_type": "display_data"
    },
    {
     "data": {
      "text/html": [
       "\n",
       "                    <br/>Synced <strong style=\"color:#cdcd00\">SibSp-fe</strong>: <a href=\"https://wandb.ai/ranuga-d/Titanic-V5-Competition/runs/3amvsa4v\" target=\"_blank\">https://wandb.ai/ranuga-d/Titanic-V5-Competition/runs/3amvsa4v</a><br/>\n",
       "                "
      ],
      "text/plain": [
       "<IPython.core.display.HTML object>"
      ]
     },
     "metadata": {},
     "output_type": "display_data"
    },
    {
     "data": {
      "text/html": [
       "...Successfully finished last run (ID:3amvsa4v). Initializing new run:<br/><br/>"
      ],
      "text/plain": [
       "<IPython.core.display.HTML object>"
      ]
     },
     "metadata": {},
     "output_type": "display_data"
    },
    {
     "data": {
      "text/html": [
       "\n",
       "                Tracking run with wandb version 0.12.0<br/>\n",
       "                Syncing run <strong style=\"color:#cdcd00\">Parch-fe</strong> to <a href=\"https://wandb.ai\" target=\"_blank\">Weights & Biases</a> <a href=\"https://docs.wandb.com/integrations/jupyter.html\" target=\"_blank\">(Documentation)</a>.<br/>\n",
       "                Project page: <a href=\"https://wandb.ai/ranuga-d/Titanic-V5-Competition\" target=\"_blank\">https://wandb.ai/ranuga-d/Titanic-V5-Competition</a><br/>\n",
       "                Run page: <a href=\"https://wandb.ai/ranuga-d/Titanic-V5-Competition/runs/3h6buesw\" target=\"_blank\">https://wandb.ai/ranuga-d/Titanic-V5-Competition/runs/3h6buesw</a><br/>\n",
       "                Run data is saved locally in <code>/home/indika/Programming/Projects/Python/Artifical-Intelligence/Sklearn-PyTorch/Titanic-V5-Competition/wandb/run-20210824_123614-3h6buesw</code><br/><br/>\n",
       "            "
      ],
      "text/plain": [
       "<IPython.core.display.HTML object>"
      ]
     },
     "metadata": {},
     "output_type": "display_data"
    },
    {
     "name": "stdout",
     "output_type": "stream",
     "text": [
      "11\n"
     ]
    },
    {
     "data": {
      "text/html": [
       "Finishing last run (ID:3h6buesw) before initializing another..."
      ],
      "text/plain": [
       "<IPython.core.display.HTML object>"
      ]
     },
     "metadata": {},
     "output_type": "display_data"
    },
    {
     "data": {
      "text/html": [
       "<br/>Waiting for W&B process to finish, PID 328727<br/>Program ended successfully."
      ],
      "text/plain": [
       "<IPython.core.display.HTML object>"
      ]
     },
     "metadata": {},
     "output_type": "display_data"
    },
    {
     "data": {
      "application/vnd.jupyter.widget-view+json": {
       "model_id": "",
       "version_major": 2,
       "version_minor": 0
      },
      "text/plain": [
       "VBox(children=(Label(value=' 0.09MB of 0.09MB uploaded (0.00MB deduped)\\r'), FloatProgress(value=1.0, max=1.0)…"
      ]
     },
     "metadata": {},
     "output_type": "display_data"
    },
    {
     "data": {
      "text/html": [
       "Find user logs for this run at: <code>/home/indika/Programming/Projects/Python/Artifical-Intelligence/Sklearn-PyTorch/Titanic-V5-Competition/wandb/run-20210824_123614-3h6buesw/logs/debug.log</code>"
      ],
      "text/plain": [
       "<IPython.core.display.HTML object>"
      ]
     },
     "metadata": {},
     "output_type": "display_data"
    },
    {
     "data": {
      "text/html": [
       "Find internal logs for this run at: <code>/home/indika/Programming/Projects/Python/Artifical-Intelligence/Sklearn-PyTorch/Titanic-V5-Competition/wandb/run-20210824_123614-3h6buesw/logs/debug-internal.log</code>"
      ],
      "text/plain": [
       "<IPython.core.display.HTML object>"
      ]
     },
     "metadata": {},
     "output_type": "display_data"
    },
    {
     "data": {
      "text/html": [
       "<h3>Run summary:</h3><br/><style>\n",
       "    table.wandb td:nth-child(1) { padding: 0 10px; text-align: right }\n",
       "    </style><table class=\"wandb\">\n",
       "<tr><td>val accuracy_score</td><td>1.0</td></tr><tr><td>val precision_score</td><td>1.0</td></tr><tr><td>val f1_score</td><td>1.0</td></tr><tr><td>val recall_score</td><td>1.0</td></tr><tr><td>_runtime</td><td>9</td></tr><tr><td>_timestamp</td><td>1629788794</td></tr><tr><td>_step</td><td>2</td></tr><tr><td>accuracy_score</td><td>0.80769</td></tr><tr><td>precision_score</td><td>0.8125</td></tr><tr><td>f1_score</td><td>0.83871</td></tr><tr><td>recall_score</td><td>0.86667</td></tr></table>"
      ],
      "text/plain": [
       "<IPython.core.display.HTML object>"
      ]
     },
     "metadata": {},
     "output_type": "display_data"
    },
    {
     "data": {
      "text/html": [
       "<h3>Run history:</h3><br/><style>\n",
       "    table.wandb td:nth-child(1) { padding: 0 10px; text-align: right }\n",
       "    </style><table class=\"wandb\">\n",
       "<tr><td>val accuracy_score</td><td>▁</td></tr><tr><td>val precision_score</td><td>▁</td></tr><tr><td>val f1_score</td><td>▁</td></tr><tr><td>val recall_score</td><td>▁</td></tr><tr><td>_runtime</td><td>▁▁█</td></tr><tr><td>_timestamp</td><td>▁▁█</td></tr><tr><td>_step</td><td>▁▅█</td></tr><tr><td>accuracy_score</td><td>▁</td></tr><tr><td>precision_score</td><td>▁</td></tr><tr><td>f1_score</td><td>▁</td></tr><tr><td>recall_score</td><td>▁</td></tr></table><br/>"
      ],
      "text/plain": [
       "<IPython.core.display.HTML object>"
      ]
     },
     "metadata": {},
     "output_type": "display_data"
    },
    {
     "data": {
      "text/html": [
       "Synced 6 W&B file(s), 1 media file(s), 3 artifact file(s) and 1 other file(s)"
      ],
      "text/plain": [
       "<IPython.core.display.HTML object>"
      ]
     },
     "metadata": {},
     "output_type": "display_data"
    },
    {
     "data": {
      "text/html": [
       "\n",
       "                    <br/>Synced <strong style=\"color:#cdcd00\">Parch-fe</strong>: <a href=\"https://wandb.ai/ranuga-d/Titanic-V5-Competition/runs/3h6buesw\" target=\"_blank\">https://wandb.ai/ranuga-d/Titanic-V5-Competition/runs/3h6buesw</a><br/>\n",
       "                "
      ],
      "text/plain": [
       "<IPython.core.display.HTML object>"
      ]
     },
     "metadata": {},
     "output_type": "display_data"
    },
    {
     "data": {
      "text/html": [
       "...Successfully finished last run (ID:3h6buesw). Initializing new run:<br/><br/>"
      ],
      "text/plain": [
       "<IPython.core.display.HTML object>"
      ]
     },
     "metadata": {},
     "output_type": "display_data"
    },
    {
     "data": {
      "text/html": [
       "\n",
       "                Tracking run with wandb version 0.12.0<br/>\n",
       "                Syncing run <strong style=\"color:#cdcd00\">Fare-fe</strong> to <a href=\"https://wandb.ai\" target=\"_blank\">Weights & Biases</a> <a href=\"https://docs.wandb.com/integrations/jupyter.html\" target=\"_blank\">(Documentation)</a>.<br/>\n",
       "                Project page: <a href=\"https://wandb.ai/ranuga-d/Titanic-V5-Competition\" target=\"_blank\">https://wandb.ai/ranuga-d/Titanic-V5-Competition</a><br/>\n",
       "                Run page: <a href=\"https://wandb.ai/ranuga-d/Titanic-V5-Competition/runs/99ze90f5\" target=\"_blank\">https://wandb.ai/ranuga-d/Titanic-V5-Competition/runs/99ze90f5</a><br/>\n",
       "                Run data is saved locally in <code>/home/indika/Programming/Projects/Python/Artifical-Intelligence/Sklearn-PyTorch/Titanic-V5-Competition/wandb/run-20210824_123635-99ze90f5</code><br/><br/>\n",
       "            "
      ],
      "text/plain": [
       "<IPython.core.display.HTML object>"
      ]
     },
     "metadata": {},
     "output_type": "display_data"
    },
    {
     "name": "stdout",
     "output_type": "stream",
     "text": [
      "11\n"
     ]
    },
    {
     "data": {
      "text/html": [
       "Finishing last run (ID:99ze90f5) before initializing another..."
      ],
      "text/plain": [
       "<IPython.core.display.HTML object>"
      ]
     },
     "metadata": {},
     "output_type": "display_data"
    },
    {
     "data": {
      "text/html": [
       "<br/>Waiting for W&B process to finish, PID 328986<br/>Program ended successfully."
      ],
      "text/plain": [
       "<IPython.core.display.HTML object>"
      ]
     },
     "metadata": {},
     "output_type": "display_data"
    },
    {
     "data": {
      "application/vnd.jupyter.widget-view+json": {
       "model_id": "",
       "version_major": 2,
       "version_minor": 0
      },
      "text/plain": [
       "VBox(children=(Label(value=' 0.00MB of 0.00MB uploaded (0.00MB deduped)\\r'), FloatProgress(value=0.72427983539…"
      ]
     },
     "metadata": {},
     "output_type": "display_data"
    },
    {
     "data": {
      "text/html": [
       "Find user logs for this run at: <code>/home/indika/Programming/Projects/Python/Artifical-Intelligence/Sklearn-PyTorch/Titanic-V5-Competition/wandb/run-20210824_123635-99ze90f5/logs/debug.log</code>"
      ],
      "text/plain": [
       "<IPython.core.display.HTML object>"
      ]
     },
     "metadata": {},
     "output_type": "display_data"
    },
    {
     "data": {
      "text/html": [
       "Find internal logs for this run at: <code>/home/indika/Programming/Projects/Python/Artifical-Intelligence/Sklearn-PyTorch/Titanic-V5-Competition/wandb/run-20210824_123635-99ze90f5/logs/debug-internal.log</code>"
      ],
      "text/plain": [
       "<IPython.core.display.HTML object>"
      ]
     },
     "metadata": {},
     "output_type": "display_data"
    },
    {
     "data": {
      "text/html": [
       "<h3>Run summary:</h3><br/><style>\n",
       "    table.wandb td:nth-child(1) { padding: 0 10px; text-align: right }\n",
       "    </style><table class=\"wandb\">\n",
       "<tr><td>val accuracy_score</td><td>0.9018</td></tr><tr><td>val precision_score</td><td>0.92941</td></tr><tr><td>val f1_score</td><td>0.86972</td></tr><tr><td>val recall_score</td><td>0.81724</td></tr><tr><td>_runtime</td><td>8</td></tr><tr><td>_timestamp</td><td>1629788818</td></tr><tr><td>_step</td><td>2</td></tr><tr><td>accuracy_score</td><td>0.84615</td></tr><tr><td>precision_score</td><td>0.82857</td></tr><tr><td>f1_score</td><td>0.78378</td></tr><tr><td>recall_score</td><td>0.74359</td></tr></table>"
      ],
      "text/plain": [
       "<IPython.core.display.HTML object>"
      ]
     },
     "metadata": {},
     "output_type": "display_data"
    },
    {
     "data": {
      "text/html": [
       "<h3>Run history:</h3><br/><style>\n",
       "    table.wandb td:nth-child(1) { padding: 0 10px; text-align: right }\n",
       "    </style><table class=\"wandb\">\n",
       "<tr><td>val accuracy_score</td><td>▁</td></tr><tr><td>val precision_score</td><td>▁</td></tr><tr><td>val f1_score</td><td>▁</td></tr><tr><td>val recall_score</td><td>▁</td></tr><tr><td>_runtime</td><td>▁▁█</td></tr><tr><td>_timestamp</td><td>▁▁█</td></tr><tr><td>_step</td><td>▁▅█</td></tr><tr><td>accuracy_score</td><td>▁</td></tr><tr><td>precision_score</td><td>▁</td></tr><tr><td>f1_score</td><td>▁</td></tr><tr><td>recall_score</td><td>▁</td></tr></table><br/>"
      ],
      "text/plain": [
       "<IPython.core.display.HTML object>"
      ]
     },
     "metadata": {},
     "output_type": "display_data"
    },
    {
     "data": {
      "text/html": [
       "Synced 6 W&B file(s), 1 media file(s), 1 artifact file(s) and 0 other file(s)"
      ],
      "text/plain": [
       "<IPython.core.display.HTML object>"
      ]
     },
     "metadata": {},
     "output_type": "display_data"
    },
    {
     "data": {
      "text/html": [
       "\n",
       "                    <br/>Synced <strong style=\"color:#cdcd00\">Fare-fe</strong>: <a href=\"https://wandb.ai/ranuga-d/Titanic-V5-Competition/runs/99ze90f5\" target=\"_blank\">https://wandb.ai/ranuga-d/Titanic-V5-Competition/runs/99ze90f5</a><br/>\n",
       "                "
      ],
      "text/plain": [
       "<IPython.core.display.HTML object>"
      ]
     },
     "metadata": {},
     "output_type": "display_data"
    },
    {
     "data": {
      "text/html": [
       "...Successfully finished last run (ID:99ze90f5). Initializing new run:<br/><br/>"
      ],
      "text/plain": [
       "<IPython.core.display.HTML object>"
      ]
     },
     "metadata": {},
     "output_type": "display_data"
    },
    {
     "data": {
      "text/html": [
       "\n",
       "                Tracking run with wandb version 0.12.0<br/>\n",
       "                Syncing run <strong style=\"color:#cdcd00\">Embarked-fe</strong> to <a href=\"https://wandb.ai\" target=\"_blank\">Weights & Biases</a> <a href=\"https://docs.wandb.com/integrations/jupyter.html\" target=\"_blank\">(Documentation)</a>.<br/>\n",
       "                Project page: <a href=\"https://wandb.ai/ranuga-d/Titanic-V5-Competition\" target=\"_blank\">https://wandb.ai/ranuga-d/Titanic-V5-Competition</a><br/>\n",
       "                Run page: <a href=\"https://wandb.ai/ranuga-d/Titanic-V5-Competition/runs/6mjlyfjj\" target=\"_blank\">https://wandb.ai/ranuga-d/Titanic-V5-Competition/runs/6mjlyfjj</a><br/>\n",
       "                Run data is saved locally in <code>/home/indika/Programming/Projects/Python/Artifical-Intelligence/Sklearn-PyTorch/Titanic-V5-Competition/wandb/run-20210824_123700-6mjlyfjj</code><br/><br/>\n",
       "            "
      ],
      "text/plain": [
       "<IPython.core.display.HTML object>"
      ]
     },
     "metadata": {},
     "output_type": "display_data"
    },
    {
     "name": "stdout",
     "output_type": "stream",
     "text": [
      "11\n"
     ]
    },
    {
     "data": {
      "text/html": [
       "Finishing last run (ID:6mjlyfjj) before initializing another..."
      ],
      "text/plain": [
       "<IPython.core.display.HTML object>"
      ]
     },
     "metadata": {},
     "output_type": "display_data"
    },
    {
     "data": {
      "text/html": [
       "<br/>Waiting for W&B process to finish, PID 329225<br/>Program ended successfully."
      ],
      "text/plain": [
       "<IPython.core.display.HTML object>"
      ]
     },
     "metadata": {},
     "output_type": "display_data"
    },
    {
     "data": {
      "application/vnd.jupyter.widget-view+json": {
       "model_id": "",
       "version_major": 2,
       "version_minor": 0
      },
      "text/plain": [
       "VBox(children=(Label(value=' 0.10MB of 0.10MB uploaded (0.00MB deduped)\\r'), FloatProgress(value=1.0, max=1.0)…"
      ]
     },
     "metadata": {},
     "output_type": "display_data"
    },
    {
     "data": {
      "text/html": [
       "Find user logs for this run at: <code>/home/indika/Programming/Projects/Python/Artifical-Intelligence/Sklearn-PyTorch/Titanic-V5-Competition/wandb/run-20210824_123700-6mjlyfjj/logs/debug.log</code>"
      ],
      "text/plain": [
       "<IPython.core.display.HTML object>"
      ]
     },
     "metadata": {},
     "output_type": "display_data"
    },
    {
     "data": {
      "text/html": [
       "Find internal logs for this run at: <code>/home/indika/Programming/Projects/Python/Artifical-Intelligence/Sklearn-PyTorch/Titanic-V5-Competition/wandb/run-20210824_123700-6mjlyfjj/logs/debug-internal.log</code>"
      ],
      "text/plain": [
       "<IPython.core.display.HTML object>"
      ]
     },
     "metadata": {},
     "output_type": "display_data"
    },
    {
     "data": {
      "text/html": [
       "<h3>Run summary:</h3><br/><style>\n",
       "    table.wandb td:nth-child(1) { padding: 0 10px; text-align: right }\n",
       "    </style><table class=\"wandb\">\n",
       "<tr><td>val accuracy_score</td><td>1.0</td></tr><tr><td>val precision_score</td><td>1.0</td></tr><tr><td>val f1_score</td><td>1.0</td></tr><tr><td>val recall_score</td><td>1.0</td></tr><tr><td>_runtime</td><td>7</td></tr><tr><td>_timestamp</td><td>1629788843</td></tr><tr><td>_step</td><td>2</td></tr><tr><td>accuracy_score</td><td>0.7619</td></tr><tr><td>precision_score</td><td>0.9</td></tr><tr><td>f1_score</td><td>0.78261</td></tr><tr><td>recall_score</td><td>0.69231</td></tr></table>"
      ],
      "text/plain": [
       "<IPython.core.display.HTML object>"
      ]
     },
     "metadata": {},
     "output_type": "display_data"
    },
    {
     "data": {
      "text/html": [
       "<h3>Run history:</h3><br/><style>\n",
       "    table.wandb td:nth-child(1) { padding: 0 10px; text-align: right }\n",
       "    </style><table class=\"wandb\">\n",
       "<tr><td>val accuracy_score</td><td>▁</td></tr><tr><td>val precision_score</td><td>▁</td></tr><tr><td>val f1_score</td><td>▁</td></tr><tr><td>val recall_score</td><td>▁</td></tr><tr><td>_runtime</td><td>▁▁█</td></tr><tr><td>_timestamp</td><td>▁▁█</td></tr><tr><td>_step</td><td>▁▅█</td></tr><tr><td>accuracy_score</td><td>▁</td></tr><tr><td>precision_score</td><td>▁</td></tr><tr><td>f1_score</td><td>▁</td></tr><tr><td>recall_score</td><td>▁</td></tr></table><br/>"
      ],
      "text/plain": [
       "<IPython.core.display.HTML object>"
      ]
     },
     "metadata": {},
     "output_type": "display_data"
    },
    {
     "data": {
      "text/html": [
       "Synced 6 W&B file(s), 1 media file(s), 3 artifact file(s) and 1 other file(s)"
      ],
      "text/plain": [
       "<IPython.core.display.HTML object>"
      ]
     },
     "metadata": {},
     "output_type": "display_data"
    },
    {
     "data": {
      "text/html": [
       "\n",
       "                    <br/>Synced <strong style=\"color:#cdcd00\">Embarked-fe</strong>: <a href=\"https://wandb.ai/ranuga-d/Titanic-V5-Competition/runs/6mjlyfjj\" target=\"_blank\">https://wandb.ai/ranuga-d/Titanic-V5-Competition/runs/6mjlyfjj</a><br/>\n",
       "                "
      ],
      "text/plain": [
       "<IPython.core.display.HTML object>"
      ]
     },
     "metadata": {},
     "output_type": "display_data"
    },
    {
     "data": {
      "text/html": [
       "...Successfully finished last run (ID:6mjlyfjj). Initializing new run:<br/><br/>"
      ],
      "text/plain": [
       "<IPython.core.display.HTML object>"
      ]
     },
     "metadata": {},
     "output_type": "display_data"
    },
    {
     "data": {
      "text/html": [
       "\n",
       "                Tracking run with wandb version 0.12.0<br/>\n",
       "                Syncing run <strong style=\"color:#cdcd00\">Ticket Rank-fe</strong> to <a href=\"https://wandb.ai\" target=\"_blank\">Weights & Biases</a> <a href=\"https://docs.wandb.com/integrations/jupyter.html\" target=\"_blank\">(Documentation)</a>.<br/>\n",
       "                Project page: <a href=\"https://wandb.ai/ranuga-d/Titanic-V5-Competition\" target=\"_blank\">https://wandb.ai/ranuga-d/Titanic-V5-Competition</a><br/>\n",
       "                Run page: <a href=\"https://wandb.ai/ranuga-d/Titanic-V5-Competition/runs/3rxncimh\" target=\"_blank\">https://wandb.ai/ranuga-d/Titanic-V5-Competition/runs/3rxncimh</a><br/>\n",
       "                Run data is saved locally in <code>/home/indika/Programming/Projects/Python/Artifical-Intelligence/Sklearn-PyTorch/Titanic-V5-Competition/wandb/run-20210824_123725-3rxncimh</code><br/><br/>\n",
       "            "
      ],
      "text/plain": [
       "<IPython.core.display.HTML object>"
      ]
     },
     "metadata": {},
     "output_type": "display_data"
    },
    {
     "name": "stdout",
     "output_type": "stream",
     "text": [
      "11\n"
     ]
    },
    {
     "data": {
      "text/html": [
       "Finishing last run (ID:3rxncimh) before initializing another..."
      ],
      "text/plain": [
       "<IPython.core.display.HTML object>"
      ]
     },
     "metadata": {},
     "output_type": "display_data"
    },
    {
     "data": {
      "text/html": [
       "<br/>Waiting for W&B process to finish, PID 329465<br/>Program ended successfully."
      ],
      "text/plain": [
       "<IPython.core.display.HTML object>"
      ]
     },
     "metadata": {},
     "output_type": "display_data"
    },
    {
     "data": {
      "application/vnd.jupyter.widget-view+json": {
       "model_id": "",
       "version_major": 2,
       "version_minor": 0
      },
      "text/plain": [
       "VBox(children=(Label(value=' 0.00MB of 0.00MB uploaded (0.00MB deduped)\\r'), FloatProgress(value=0.84408602150…"
      ]
     },
     "metadata": {},
     "output_type": "display_data"
    },
    {
     "data": {
      "text/html": [
       "Find user logs for this run at: <code>/home/indika/Programming/Projects/Python/Artifical-Intelligence/Sklearn-PyTorch/Titanic-V5-Competition/wandb/run-20210824_123725-3rxncimh/logs/debug.log</code>"
      ],
      "text/plain": [
       "<IPython.core.display.HTML object>"
      ]
     },
     "metadata": {},
     "output_type": "display_data"
    },
    {
     "data": {
      "text/html": [
       "Find internal logs for this run at: <code>/home/indika/Programming/Projects/Python/Artifical-Intelligence/Sklearn-PyTorch/Titanic-V5-Competition/wandb/run-20210824_123725-3rxncimh/logs/debug-internal.log</code>"
      ],
      "text/plain": [
       "<IPython.core.display.HTML object>"
      ]
     },
     "metadata": {},
     "output_type": "display_data"
    },
    {
     "data": {
      "text/html": [
       "<h3>Run summary:</h3><br/><style>\n",
       "    table.wandb td:nth-child(1) { padding: 0 10px; text-align: right }\n",
       "    </style><table class=\"wandb\">\n",
       "<tr><td>val accuracy_score</td><td>0.99462</td></tr><tr><td>val precision_score</td><td>1.0</td></tr><tr><td>val f1_score</td><td>0.9932</td></tr><tr><td>val recall_score</td><td>0.98649</td></tr><tr><td>_runtime</td><td>7</td></tr><tr><td>_timestamp</td><td>1629788865</td></tr><tr><td>_step</td><td>2</td></tr><tr><td>accuracy_score</td><td>0.88889</td></tr><tr><td>precision_score</td><td>0.8</td></tr><tr><td>f1_score</td><td>0.84211</td></tr><tr><td>recall_score</td><td>0.88889</td></tr></table>"
      ],
      "text/plain": [
       "<IPython.core.display.HTML object>"
      ]
     },
     "metadata": {},
     "output_type": "display_data"
    },
    {
     "data": {
      "text/html": [
       "<h3>Run history:</h3><br/><style>\n",
       "    table.wandb td:nth-child(1) { padding: 0 10px; text-align: right }\n",
       "    </style><table class=\"wandb\">\n",
       "<tr><td>val accuracy_score</td><td>▁</td></tr><tr><td>val precision_score</td><td>▁</td></tr><tr><td>val f1_score</td><td>▁</td></tr><tr><td>val recall_score</td><td>▁</td></tr><tr><td>_runtime</td><td>▁▁█</td></tr><tr><td>_timestamp</td><td>▁▁█</td></tr><tr><td>_step</td><td>▁▅█</td></tr><tr><td>accuracy_score</td><td>▁</td></tr><tr><td>precision_score</td><td>▁</td></tr><tr><td>f1_score</td><td>▁</td></tr><tr><td>recall_score</td><td>▁</td></tr></table><br/>"
      ],
      "text/plain": [
       "<IPython.core.display.HTML object>"
      ]
     },
     "metadata": {},
     "output_type": "display_data"
    },
    {
     "data": {
      "text/html": [
       "Synced 6 W&B file(s), 1 media file(s), 1 artifact file(s) and 0 other file(s)"
      ],
      "text/plain": [
       "<IPython.core.display.HTML object>"
      ]
     },
     "metadata": {},
     "output_type": "display_data"
    },
    {
     "data": {
      "text/html": [
       "\n",
       "                    <br/>Synced <strong style=\"color:#cdcd00\">Ticket Rank-fe</strong>: <a href=\"https://wandb.ai/ranuga-d/Titanic-V5-Competition/runs/3rxncimh\" target=\"_blank\">https://wandb.ai/ranuga-d/Titanic-V5-Competition/runs/3rxncimh</a><br/>\n",
       "                "
      ],
      "text/plain": [
       "<IPython.core.display.HTML object>"
      ]
     },
     "metadata": {},
     "output_type": "display_data"
    },
    {
     "data": {
      "text/html": [
       "...Successfully finished last run (ID:3rxncimh). Initializing new run:<br/><br/>"
      ],
      "text/plain": [
       "<IPython.core.display.HTML object>"
      ]
     },
     "metadata": {},
     "output_type": "display_data"
    },
    {
     "data": {
      "text/html": [
       "\n",
       "                Tracking run with wandb version 0.12.0<br/>\n",
       "                Syncing run <strong style=\"color:#cdcd00\">Ticket Id-fe</strong> to <a href=\"https://wandb.ai\" target=\"_blank\">Weights & Biases</a> <a href=\"https://docs.wandb.com/integrations/jupyter.html\" target=\"_blank\">(Documentation)</a>.<br/>\n",
       "                Project page: <a href=\"https://wandb.ai/ranuga-d/Titanic-V5-Competition\" target=\"_blank\">https://wandb.ai/ranuga-d/Titanic-V5-Competition</a><br/>\n",
       "                Run page: <a href=\"https://wandb.ai/ranuga-d/Titanic-V5-Competition/runs/gtb3qm7b\" target=\"_blank\">https://wandb.ai/ranuga-d/Titanic-V5-Competition/runs/gtb3qm7b</a><br/>\n",
       "                Run data is saved locally in <code>/home/indika/Programming/Projects/Python/Artifical-Intelligence/Sklearn-PyTorch/Titanic-V5-Competition/wandb/run-20210824_123750-gtb3qm7b</code><br/><br/>\n",
       "            "
      ],
      "text/plain": [
       "<IPython.core.display.HTML object>"
      ]
     },
     "metadata": {},
     "output_type": "display_data"
    },
    {
     "name": "stdout",
     "output_type": "stream",
     "text": [
      "11\n"
     ]
    }
   ],
   "source": [
    "def fe(data,col):\n",
    "    max_num = data[col].quantile(0.99)\n",
    "    min_num = data[col].quantile(0.05)\n",
    "    data = data[data[col] < max_num]\n",
    "    data = data[data[col] > min_num]\n",
    "    return data\n",
    "for col in list(X.columns):\n",
    "    try:\n",
    "        data = data_old.copy()\n",
    "        data = fe(data,col)\n",
    "        X = data.drop('Survived',axis=1)\n",
    "        y = data['Survived']\n",
    "        X_train,X_test,y_train,y_test = train_test_split(X,y,test_size=0.125)\n",
    "        model = GradientBoostingClassifier()\n",
    "        model = train(model,X_train,X_test,y_train,y_test,name=f'{col}-fe')\n",
    "    except:\n",
    "        pass"
   ]
  },
  {
   "cell_type": "code",
   "execution_count": 35,
   "id": "5c22286c-ad79-4ca1-9f51-85c2f225cc9a",
   "metadata": {},
   "outputs": [
    {
     "data": {
      "text/plain": [
       "Pclass         0\n",
       "Name           0\n",
       "Sex            0\n",
       "Age            0\n",
       "SibSp          0\n",
       "Parch          0\n",
       "Fare           0\n",
       "Cabin          0\n",
       "Embarked       0\n",
       "Ticket Rank    0\n",
       "Ticket Id      0\n",
       "dtype: int64"
      ]
     },
     "execution_count": 35,
     "metadata": {},
     "output_type": "execute_result"
    }
   ],
   "source": [
    "X.isna().sum()"
   ]
  },
  {
   "cell_type": "code",
   "execution_count": 36,
   "id": "7918a4c5-71bc-469d-ac32-d941e3618dbd",
   "metadata": {},
   "outputs": [],
   "source": [
    "X_train,X_test,y_train,y_test = train_test_split(X,y,test_size=0.125)"
   ]
  },
  {
   "cell_type": "code",
   "execution_count": 37,
   "id": "0796ecc7-d0a1-41dd-8217-244a5983e5ed",
   "metadata": {},
   "outputs": [],
   "source": [
    "# model = CatBoostClassifier()\n",
    "# train(model,X_train,X_test,y_train,y_test,name='test')"
   ]
  },
  {
   "cell_type": "code",
   "execution_count": 38,
   "id": "ac8287e7-0c08-4b08-91e3-e5f520bc5d68",
   "metadata": {},
   "outputs": [],
   "source": [
    "# 0 = not survived\n",
    "# 1 = survived\n",
    "# 1 = has a cabin\n",
    "# 0 = has no cabin"
   ]
  },
  {
   "cell_type": "code",
   "execution_count": 39,
   "id": "80a13885-71bb-492a-b17e-809b33c7fb7e",
   "metadata": {},
   "outputs": [],
   "source": [
    "do_le = False"
   ]
  },
  {
   "cell_type": "code",
   "execution_count": 40,
   "id": "be76db50-bd56-449a-a1ae-3b383e317dba",
   "metadata": {},
   "outputs": [],
   "source": [
    "X_train_old,X_test_old,y_train_old,y_test_old  = X_train.copy(),X_test.copy(),y_train.copy(),y_test.copy()"
   ]
  },
  {
   "cell_type": "code",
   "execution_count": 41,
   "id": "97397f21-8679-4225-a42b-3ec6e5313da1",
   "metadata": {},
   "outputs": [],
   "source": [
    "# pres = [    StandardScaler,\n",
    "#     RobustScaler,\n",
    "#     MinMaxScaler,\n",
    "#     MaxAbsScaler,\n",
    "#     Normalizer,]\n",
    "# for pre in pres:\n",
    "#     X_train,X_test,y_train,y_test  = X_train_old.copy(),X_test_old.copy(),y_train_old.copy(),y_test_old.copy()\n",
    "#     if do_le:\n",
    "#         le = LabelEncoder()\n",
    "#     pre = pre()\n",
    "#     pre.fit(X)\n",
    "#     X_train = pre.fit_transform(X_train)\n",
    "#     X_test = pre.transform(X_test)\n",
    "#     if do_le:\n",
    "#         le = le\n",
    "#         y_train = le.fit_transform(y_train)\n",
    "#         y_test = le.transform(y_test)\n",
    "#     model = GradientBoostingClassifier()\n",
    "#     train(model,X_train,X_test,y_train,y_test,name=f'{pre}-{do_le}')"
   ]
  },
  {
   "cell_type": "code",
   "execution_count": 42,
   "id": "e1d43dc8-4c9f-41ec-9a41-98bc0adeca67",
   "metadata": {},
   "outputs": [],
   "source": [
    "# le = LabelEncoder()"
   ]
  },
  {
   "cell_type": "code",
   "execution_count": 43,
   "id": "1fe66bcb-2a88-460d-9ed5-75eab7614c69",
   "metadata": {},
   "outputs": [],
   "source": [
    "# le = le\n",
    "# y_train = le.fit_transform(y_train)\n",
    "# y_test = le.transform(y_test)"
   ]
  },
  {
   "cell_type": "code",
   "execution_count": null,
   "id": "e190701b-974a-4042-a819-6bb50abcdf35",
   "metadata": {},
   "outputs": [],
   "source": []
  },
  {
   "cell_type": "code",
   "execution_count": null,
   "id": "d22b994b-2bd0-40f7-b28a-70aa449b5789",
   "metadata": {},
   "outputs": [],
   "source": []
  },
  {
   "cell_type": "code",
   "execution_count": 44,
   "id": "33317295-5d08-4629-be9e-fffcabb6ab45",
   "metadata": {},
   "outputs": [
    {
     "data": {
      "text/html": [
       "Finishing last run (ID:gtb3qm7b) before initializing another..."
      ],
      "text/plain": [
       "<IPython.core.display.HTML object>"
      ]
     },
     "metadata": {},
     "output_type": "display_data"
    },
    {
     "data": {
      "text/html": [
       "<br/>Waiting for W&B process to finish, PID 329710<br/>Program ended successfully."
      ],
      "text/plain": [
       "<IPython.core.display.HTML object>"
      ]
     },
     "metadata": {},
     "output_type": "display_data"
    },
    {
     "data": {
      "application/vnd.jupyter.widget-view+json": {
       "model_id": "",
       "version_major": 2,
       "version_minor": 0
      },
      "text/plain": [
       "VBox(children=(Label(value=' 0.11MB of 0.11MB uploaded (0.08MB deduped)\\r'), FloatProgress(value=1.0, max=1.0)…"
      ]
     },
     "metadata": {},
     "output_type": "display_data"
    },
    {
     "data": {
      "text/html": [
       "Find user logs for this run at: <code>/home/indika/Programming/Projects/Python/Artifical-Intelligence/Sklearn-PyTorch/Titanic-V5-Competition/wandb/run-20210824_123750-gtb3qm7b/logs/debug.log</code>"
      ],
      "text/plain": [
       "<IPython.core.display.HTML object>"
      ]
     },
     "metadata": {},
     "output_type": "display_data"
    },
    {
     "data": {
      "text/html": [
       "Find internal logs for this run at: <code>/home/indika/Programming/Projects/Python/Artifical-Intelligence/Sklearn-PyTorch/Titanic-V5-Competition/wandb/run-20210824_123750-gtb3qm7b/logs/debug-internal.log</code>"
      ],
      "text/plain": [
       "<IPython.core.display.HTML object>"
      ]
     },
     "metadata": {},
     "output_type": "display_data"
    },
    {
     "data": {
      "text/html": [
       "<h3>Run summary:</h3><br/><style>\n",
       "    table.wandb td:nth-child(1) { padding: 0 10px; text-align: right }\n",
       "    </style><table class=\"wandb\">\n",
       "<tr><td>val accuracy_score</td><td>0.9235</td></tr><tr><td>val precision_score</td><td>0.94444</td></tr><tr><td>val f1_score</td><td>0.89474</td></tr><tr><td>val recall_score</td><td>0.85</td></tr><tr><td>_runtime</td><td>8</td></tr><tr><td>_timestamp</td><td>1629788889</td></tr><tr><td>_step</td><td>2</td></tr><tr><td>accuracy_score</td><td>0.8381</td></tr><tr><td>precision_score</td><td>0.84615</td></tr><tr><td>f1_score</td><td>0.79518</td></tr><tr><td>recall_score</td><td>0.75</td></tr></table>"
      ],
      "text/plain": [
       "<IPython.core.display.HTML object>"
      ]
     },
     "metadata": {},
     "output_type": "display_data"
    },
    {
     "data": {
      "text/html": [
       "<h3>Run history:</h3><br/><style>\n",
       "    table.wandb td:nth-child(1) { padding: 0 10px; text-align: right }\n",
       "    </style><table class=\"wandb\">\n",
       "<tr><td>val accuracy_score</td><td>▁</td></tr><tr><td>val precision_score</td><td>▁</td></tr><tr><td>val f1_score</td><td>▁</td></tr><tr><td>val recall_score</td><td>▁</td></tr><tr><td>_runtime</td><td>▁▁█</td></tr><tr><td>_timestamp</td><td>▁▁█</td></tr><tr><td>_step</td><td>▁▅█</td></tr><tr><td>accuracy_score</td><td>▁</td></tr><tr><td>precision_score</td><td>▁</td></tr><tr><td>f1_score</td><td>▁</td></tr><tr><td>recall_score</td><td>▁</td></tr></table><br/>"
      ],
      "text/plain": [
       "<IPython.core.display.HTML object>"
      ]
     },
     "metadata": {},
     "output_type": "display_data"
    },
    {
     "data": {
      "text/html": [
       "Synced 6 W&B file(s), 1 media file(s), 3 artifact file(s) and 1 other file(s)"
      ],
      "text/plain": [
       "<IPython.core.display.HTML object>"
      ]
     },
     "metadata": {},
     "output_type": "display_data"
    },
    {
     "data": {
      "text/html": [
       "\n",
       "                    <br/>Synced <strong style=\"color:#cdcd00\">Ticket Id-fe</strong>: <a href=\"https://wandb.ai/ranuga-d/Titanic-V5-Competition/runs/gtb3qm7b\" target=\"_blank\">https://wandb.ai/ranuga-d/Titanic-V5-Competition/runs/gtb3qm7b</a><br/>\n",
       "                "
      ],
      "text/plain": [
       "<IPython.core.display.HTML object>"
      ]
     },
     "metadata": {},
     "output_type": "display_data"
    },
    {
     "data": {
      "text/html": [
       "...Successfully finished last run (ID:gtb3qm7b). Initializing new run:<br/><br/>"
      ],
      "text/plain": [
       "<IPython.core.display.HTML object>"
      ]
     },
     "metadata": {},
     "output_type": "display_data"
    },
    {
     "data": {
      "text/html": [
       "\n",
       "                Tracking run with wandb version 0.12.0<br/>\n",
       "                Syncing run <strong style=\"color:#cdcd00\">le only</strong> to <a href=\"https://wandb.ai\" target=\"_blank\">Weights & Biases</a> <a href=\"https://docs.wandb.com/integrations/jupyter.html\" target=\"_blank\">(Documentation)</a>.<br/>\n",
       "                Project page: <a href=\"https://wandb.ai/ranuga-d/Titanic-V5-Competition\" target=\"_blank\">https://wandb.ai/ranuga-d/Titanic-V5-Competition</a><br/>\n",
       "                Run page: <a href=\"https://wandb.ai/ranuga-d/Titanic-V5-Competition/runs/36992jps\" target=\"_blank\">https://wandb.ai/ranuga-d/Titanic-V5-Competition/runs/36992jps</a><br/>\n",
       "                Run data is saved locally in <code>/home/indika/Programming/Projects/Python/Artifical-Intelligence/Sklearn-PyTorch/Titanic-V5-Competition/wandb/run-20210824_123817-36992jps</code><br/><br/>\n",
       "            "
      ],
      "text/plain": [
       "<IPython.core.display.HTML object>"
      ]
     },
     "metadata": {},
     "output_type": "display_data"
    },
    {
     "name": "stdout",
     "output_type": "stream",
     "text": [
      "11\n"
     ]
    }
   ],
   "source": [
    "model = GradientBoostingClassifier()\n",
    "model = train(model,X_train,X_test,y_train,y_test,name=f'le only')"
   ]
  },
  {
   "cell_type": "code",
   "execution_count": null,
   "id": "17b1e3f7-f780-4302-b6ce-df6f265db99e",
   "metadata": {},
   "outputs": [],
   "source": []
  },
  {
   "cell_type": "code",
   "execution_count": null,
   "id": "309d5c7a-5567-482a-bb31-1b9281c2c835",
   "metadata": {},
   "outputs": [],
   "source": []
  },
  {
   "cell_type": "code",
   "execution_count": null,
   "id": "7a8431d9-87e2-4985-ac03-bd1a0466c8e6",
   "metadata": {},
   "outputs": [],
   "source": []
  },
  {
   "cell_type": "code",
   "execution_count": null,
   "id": "07782a76-49e4-4536-aeb2-4059ac8acbff",
   "metadata": {},
   "outputs": [],
   "source": []
  },
  {
   "cell_type": "code",
   "execution_count": null,
   "id": "59e8caab-013b-4aa7-988d-384406e5ca05",
   "metadata": {},
   "outputs": [],
   "source": []
  },
  {
   "cell_type": "code",
   "execution_count": null,
   "id": "a1f25da7-3925-45a9-b608-dad452e6f298",
   "metadata": {},
   "outputs": [],
   "source": []
  },
  {
   "cell_type": "code",
   "execution_count": null,
   "id": "f8391145-aab3-4429-aaea-52d570696d85",
   "metadata": {},
   "outputs": [],
   "source": []
  },
  {
   "cell_type": "code",
   "execution_count": null,
   "id": "de6d67ec-a9e3-48a3-80b6-687508b4de83",
   "metadata": {},
   "outputs": [],
   "source": []
  },
  {
   "cell_type": "code",
   "execution_count": null,
   "id": "c3833f7c-cfca-44fc-9794-e49c2419b861",
   "metadata": {},
   "outputs": [],
   "source": []
  },
  {
   "cell_type": "code",
   "execution_count": null,
   "id": "9568753a-3fb4-4f53-802c-bfd6952b67b5",
   "metadata": {},
   "outputs": [],
   "source": []
  },
  {
   "cell_type": "code",
   "execution_count": null,
   "id": "84e3417c-4ecc-48d8-a449-678e514ddefe",
   "metadata": {},
   "outputs": [],
   "source": []
  },
  {
   "cell_type": "code",
   "execution_count": null,
   "id": "2231308c-d4ec-4abf-8397-1cd195158528",
   "metadata": {},
   "outputs": [],
   "source": []
  }
 ],
 "metadata": {
  "kernelspec": {
   "display_name": "Python 3.7.3 64-bit ('base': conda)",
   "language": "python",
   "name": "python373jvsc74a57bd0210f9608a45c0278a93c9e0b10db32a427986ab48cfc0d20c139811eb78c4bbc"
  },
  "language_info": {
   "codemirror_mode": {
    "name": "ipython",
    "version": 3
   },
   "file_extension": ".py",
   "mimetype": "text/x-python",
   "name": "python",
   "nbconvert_exporter": "python",
   "pygments_lexer": "ipython3",
   "version": "3.7.7"
  }
 },
 "nbformat": 4,
 "nbformat_minor": 5
}
